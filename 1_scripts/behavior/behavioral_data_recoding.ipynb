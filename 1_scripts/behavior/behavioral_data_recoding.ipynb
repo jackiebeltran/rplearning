{
 "cells": [
  {
   "cell_type": "code",
   "execution_count": 1,
   "id": "a537cc2e",
   "metadata": {},
   "outputs": [],
   "source": [
    "import pandas as pd\n",
    "from scipy.io import savemat\n",
    "import os\n",
    "import os.path as osp\n",
    "import numpy as np\n",
    "import glob\n",
    "import scipy.io"
   ]
  },
  {
   "cell_type": "markdown",
   "id": "6946d8fe",
   "metadata": {},
   "source": [
    "### this section serves to go line by line, can skip to function below "
   ]
  },
  {
   "cell_type": "code",
   "execution_count": 2,
   "id": "17837c9f",
   "metadata": {
    "scrolled": true
   },
   "outputs": [
    {
     "data": {
      "text/plain": [
       "'/Users/jackiebeltran/Documents/RL/scripts'"
      ]
     },
     "execution_count": 2,
     "metadata": {},
     "output_type": "execute_result"
    }
   ],
   "source": [
    "os.getcwd()"
   ]
  },
  {
   "cell_type": "code",
   "execution_count": null,
   "id": "5dbde9ab",
   "metadata": {
    "scrolled": true
   },
   "outputs": [],
   "source": [
    "raw_df = pd.read_csv('../N_55_raw/506_RPlearning_2020_Jan_08_1346.csv')\n",
    "subID = 506\n"
   ]
  },
  {
   "cell_type": "code",
   "execution_count": null,
   "id": "3c8ec359",
   "metadata": {
    "scrolled": true
   },
   "outputs": [],
   "source": [
    "raw_df"
   ]
  },
  {
   "cell_type": "code",
   "execution_count": null,
   "id": "723b264e",
   "metadata": {},
   "outputs": [],
   "source": [
    "# Extract relevant columns into df\n",
    "df = raw_df[[\"stim2bottom\",\"stim1position\",\"stim1top\",\"condition\", 'key_resp_2.keys', 'key_resp_2.corr',\n",
    "             'feedback', 'corrResp']]\n",
    "df"
   ]
  },
  {
   "cell_type": "code",
   "execution_count": null,
   "id": "1678c711",
   "metadata": {},
   "outputs": [],
   "source": [
    "# Correct cues: create 'cueTop' & 'cueBottom' columns; reassigning stimuli to values of 1 & 2\n",
    "\n",
    "df['cueTop']=df.stim1top.apply(lambda x: x.split('.')[0])\n",
    "df['cueBottom']=df.stim2bottom.apply(lambda x: x.split('.')[0])\n",
    "cue=df[['cueTop','cueBottom']].T.to_numpy()\n",
    "df\n",
    "\n",
    "df.cueTop.replace({\"1\" : 1, \"3\" : 1, \"5\" : 1, \"2\":2, \"4\":2, \"6\":2}, inplace=True)\n",
    "df.cueBottom.replace({\"1\" : 1, \"3\" : 1, \"5\" : 1, \"2\":2, \"4\":2, \"6\":2}, inplace=True)\n",
    "df\n"
   ]
  },
  {
   "cell_type": "code",
   "execution_count": null,
   "id": "7f0d2227",
   "metadata": {},
   "outputs": [],
   "source": [
    "# recode key response into a \"choice\" column\n",
    "# in the original data, 2 is a button press (top stimulus) and 'None' is choosing the bottom stimulus \n",
    "# we'll recode 1 = button press, 2 = no action\n",
    "\n",
    "df['choice']=df['key_resp_2.keys'] # duplicate choice data column \n",
    "df.choice.replace({'2':1, 'None':2}, inplace=True)\n",
    "choice=df.choice.to_numpy()\n",
    "df"
   ]
  },
  {
   "cell_type": "code",
   "execution_count": null,
   "id": "db65190d",
   "metadata": {},
   "outputs": [],
   "source": [
    "# determine what stimulus the choice corresponds to and add that stimulus choice to an actions column\n",
    "\n",
    "df['actions'] = ''\n",
    "\n",
    "for index, row in df.iterrows():\n",
    "    if row['choice'] == 1: # chose top \n",
    "        df.at[index, 'actions'] = row['cueTop'] \n",
    "    elif row['choice'] == 2: # chose bottom \n",
    "        df.at[index, 'actions'] = row['cueBottom']\n",
    "        \n",
    "df"
   ]
  },
  {
   "cell_type": "code",
   "execution_count": null,
   "id": "9788154b",
   "metadata": {
    "scrolled": true
   },
   "outputs": [],
   "source": [
    "#create rewards column with feedback recoded\n",
    "\n",
    "df['rewards']=df.feedback # creating a reward column that I'll recode\n",
    "df\n",
    "df.rewards.replace({\"win\" : 1,\n",
    "                    \"loss\" : -1,\n",
    "                    \"nil\" : 0,\n",
    "                    \"nothing\" : 0}, inplace=True)\n",
    "df\n",
    "rewards=df.rewards.to_numpy()\n",
    "df"
   ]
  },
  {
   "cell_type": "code",
   "execution_count": null,
   "id": "fa787121",
   "metadata": {
    "scrolled": true
   },
   "outputs": [],
   "source": [
    "# recode conditions \n",
    "\n",
    "df['conditions']=df.condition # creating a condition column \n",
    "df.conditions.replace({\"gain\" : 1, \"loss\" : 2, \"neutral\" : 3}, inplace=True)\n",
    "conditions=df.conditions.to_numpy()\n",
    "df"
   ]
  },
  {
   "cell_type": "code",
   "execution_count": null,
   "id": "7db76b2d",
   "metadata": {},
   "outputs": [],
   "source": [
    "# recode corrResp to \"best action\" to determine what the best stimulus choise was for each trial type,\n",
    "# this has to be based on the stimulus position that's correspondent to the \"best_action\"\n",
    "# so if best_action is 1, that means taking the value for the stimulus that was on top \n",
    "\n",
    "df['better_action']=df.corrResp # creating a best action column \n",
    "\n",
    "# we'll recode 1 = button press, 2 = no action\n",
    "df.better_action.replace({\"2\" : 1, \"None\" : 2}, inplace=True)\n",
    "better_action=df.better_action.to_numpy()\n",
    "\n",
    "\n",
    "# determine what stimulus the best_action corresponds to and add that stimulus choice to a best_actions column\n",
    "\n",
    "df['best_action'] = '' # create empty column\n",
    "\n",
    "for index, row in df.iterrows():\n",
    "    if row['better_action'] == 1: # chose top \n",
    "        df.at[index, 'best_action'] = row['cueTop'] \n",
    "    elif row['better_action'] == 2: # chose bottom \n",
    "        df.at[index, 'best_action'] = row['cueBottom']\n",
    "        \n",
    "df"
   ]
  },
  {
   "cell_type": "code",
   "execution_count": null,
   "id": "0bce651d",
   "metadata": {},
   "outputs": [],
   "source": [
    "# recode took_best_action variable = \"key_resp_2.corr\" ; where 1 = True, 0 = False  \n",
    "\n",
    "df['took_best_action']=df['key_resp_2.corr'] \n",
    "\n",
    "took_best_action=df.took_best_action.to_numpy()\n",
    "df\n"
   ]
  },
  {
   "cell_type": "code",
   "execution_count": null,
   "id": "ff0adeca",
   "metadata": {
    "scrolled": true
   },
   "outputs": [],
   "source": [
    "# add a participant id column \n",
    "df['sub_ID'] = 506\n",
    "df\n"
   ]
  },
  {
   "cell_type": "code",
   "execution_count": null,
   "id": "0a5ccea9",
   "metadata": {
    "scrolled": false
   },
   "outputs": [],
   "source": [
    "df[df[\"condition\"] == \"gain\"]"
   ]
  },
  {
   "cell_type": "code",
   "execution_count": null,
   "id": "7452cc12",
   "metadata": {
    "scrolled": true
   },
   "outputs": [],
   "source": [
    "# keep data of interest\n",
    "\n",
    "dfout=df[['sub_ID', 'cueTop', 'cueBottom', 'actions','rewards','conditions', 'best_action', 'took_best_action']]\n",
    "\n",
    "dfout"
   ]
  },
  {
   "cell_type": "code",
   "execution_count": null,
   "id": "e8ecfb81",
   "metadata": {},
   "outputs": [],
   "source": [
    "os.getcwd()"
   ]
  },
  {
   "cell_type": "code",
   "execution_count": null,
   "id": "cb40d767",
   "metadata": {},
   "outputs": [],
   "source": [
    "dfout.to_csv(f'../data/506_behavior.csv')\n"
   ]
  },
  {
   "cell_type": "code",
   "execution_count": null,
   "id": "3dd45ab2",
   "metadata": {},
   "outputs": [],
   "source": []
  },
  {
   "cell_type": "code",
   "execution_count": null,
   "id": "38db5a13",
   "metadata": {},
   "outputs": [],
   "source": []
  },
  {
   "cell_type": "markdown",
   "id": "5959df07",
   "metadata": {},
   "source": [
    "### streamline process"
   ]
  },
  {
   "cell_type": "code",
   "execution_count": 2,
   "id": "b365ca54",
   "metadata": {
    "scrolled": true
   },
   "outputs": [
    {
     "data": {
      "text/plain": [
       "'/Users/jackiebeltran/Documents/GitHub/RP_Learning/1_scripts/behavior'"
      ]
     },
     "execution_count": 2,
     "metadata": {},
     "output_type": "execute_result"
    }
   ],
   "source": [
    "os.getcwd()"
   ]
  },
  {
   "cell_type": "code",
   "execution_count": null,
   "id": "a10f2746",
   "metadata": {
    "scrolled": true
   },
   "outputs": [],
   "source": [
    "# flist = glob.glob('../../RL_2/N_55/raw_HC_data/*.csv')\n",
    "flist = glob.glob('../../RL_2/N_55/raw_MDD_data/*.csv')\n",
    "print(\"Number of subjects: \" + str(len(flist)))\n",
    "flist"
   ]
  },
  {
   "cell_type": "code",
   "execution_count": 10,
   "id": "2413b0e8",
   "metadata": {},
   "outputs": [],
   "source": [
    "def preproc(filename):\n",
    "    #extract index    \n",
    "    a = filename.split('/')\n",
    "    idx = a[-1].index('_')\n",
    "    subID=a[-1][:idx]\n",
    "\n",
    "    raw_df = pd.read_csv(filename)\n",
    "    \n",
    "    df = raw_df[[\"stim2bottom\",\"stim1position\",\"stim1top\",\"condition\", 'key_resp_2.keys','feedback', 'corrResp']]\n",
    "    \n",
    "    # Correct cues \n",
    "\n",
    "    df['cueTop']=df.stim1top.apply(lambda x: x.split('.')[0])\n",
    "    df['cueBottom']=df.stim2bottom.apply(lambda x: x.split('.')[0])\n",
    "    cue=df[['cueTop','cueBottom']].T.to_numpy()\n",
    "    \n",
    "    # stimulus 1,3,5 are on top (set equal to action 1)\n",
    "    # stimulus 2,4,6 are on bottom (set equal to action 2)\n",
    "\n",
    "    df.cueTop.replace({\"1\" : 1, \"3\" : 1, \"5\" : 1, \"2\":2, \"4\":2, \"6\":2}, inplace=True)\n",
    "    df.cueBottom.replace({\"1\" : 1, \"3\" : 1, \"5\" : 1, \"2\":2, \"4\":2, \"6\":2}, inplace=True)\n",
    "    \n",
    "    # recode key response into a \"choice\" column\n",
    "    # in the original data, 2 is a button press (top stimulus) and 'None' is choosing the bottom stimulus \n",
    "    # we'll recode 1 = button press, 2 = no action\n",
    "\n",
    "    df['choice']=df['key_resp_2.keys'] # duplicate choice data column \n",
    "    df.choice.replace({'2':1, 'None':2}, inplace=True)\n",
    "    choice=df.choice.to_numpy()\n",
    "    \n",
    "    # Determine what stimulus the choice corresponds to\n",
    "\n",
    "    df['actions'] = ''\n",
    "\n",
    "    for index, row in df.iterrows():\n",
    "        if row['choice'] == 1: # chose top \n",
    "            df.at[index, 'actions'] = row['cueTop']\n",
    "        elif row['choice'] == 2: # chose bottom \n",
    "            df.at[index, 'actions'] = row['cueBottom']\n",
    "\n",
    "    # Rewards\n",
    "\n",
    "    df['rewards']=df.feedback # creating a reward column that I'll recode\n",
    "    df.rewards.replace({\"win\" : 1,\n",
    "                        \"loss\" : -1,\n",
    "                        \"nil\" : 0,\n",
    "                        \"nothing\" : 0}, inplace=True)\n",
    "    rewards=df.rewards.to_numpy()\n",
    "    \n",
    "    # Conditions\n",
    "\n",
    "    df['conditions']=df.condition # creating a conditions column \n",
    "    df.condition.replace({\"gain\" : 1, \"loss\" : 2, \"neutral\" : 3}, inplace=True)\n",
    "    feedback=df.feedback.to_numpy()\n",
    "    \n",
    "    # add participant ID column \n",
    "    df['sub_ID'] = subID \n",
    "    \n",
    "    # keep data of interest\n",
    "\n",
    "    dfout=df[['sub_ID', 'actions','rewards','condition']]\n",
    "    \n",
    "    ### Healthy \n",
    "#     dfout.to_csv(f'../../RL_2/N_55/healthy/{subID}.csv')\n",
    "\n",
    "    ### MDD \n",
    "    dfout.to_csv(f'../../RL_2/N_55/mdd/{subID}.csv') \n",
    "    "
   ]
  },
  {
   "cell_type": "code",
   "execution_count": null,
   "id": "34d2c100",
   "metadata": {},
   "outputs": [],
   "source": [
    "for name in flist:\n",
    "    print(name)\n",
    "    preproc(name)"
   ]
  }
 ],
 "metadata": {
  "kernelspec": {
   "display_name": "Python 3 (ipykernel)",
   "language": "python",
   "name": "python3"
  },
  "language_info": {
   "codemirror_mode": {
    "name": "ipython",
    "version": 3
   },
   "file_extension": ".py",
   "mimetype": "text/x-python",
   "name": "python",
   "nbconvert_exporter": "python",
   "pygments_lexer": "ipython3",
   "version": "3.9.12"
  }
 },
 "nbformat": 4,
 "nbformat_minor": 5
}
