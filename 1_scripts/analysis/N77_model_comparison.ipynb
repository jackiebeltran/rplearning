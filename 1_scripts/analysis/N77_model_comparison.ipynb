{
 "cells": [
  {
   "cell_type": "markdown",
   "id": "9004f8c9",
   "metadata": {},
   "source": [
    "### performing model comparison on behavioral data fit to model 1 & model 2"
   ]
  },
  {
   "cell_type": "code",
   "execution_count": 1,
   "id": "faa44d76",
   "metadata": {},
   "outputs": [],
   "source": [
    "import numpy as np  \n",
    "\n",
    "import matplotlib.pyplot as plt\n",
    "import seaborn as sns\n",
    "import pandas as pd\n",
    "import glob\n",
    "import math\n",
    "import os\n",
    "\n",
    "from matplotlib import pyplot\n",
    "from scipy.stats import norm\n",
    "from scipy.optimize import minimize"
   ]
  },
  {
   "cell_type": "code",
   "execution_count": 2,
   "id": "911bc6e6",
   "metadata": {
    "scrolled": true
   },
   "outputs": [
    {
     "data": {
      "text/plain": [
       "'/Users/jackiebeltran/Documents/GitHub/RP_Learning/1_scripts/analysis'"
      ]
     },
     "execution_count": 2,
     "metadata": {},
     "output_type": "execute_result"
    }
   ],
   "source": [
    "os.getcwd()"
   ]
  },
  {
   "cell_type": "code",
   "execution_count": 30,
   "id": "5a679613",
   "metadata": {},
   "outputs": [],
   "source": [
    "### load parameter data  -- for either HC or MDD\n",
    "\n",
    "m1_data = pd.read_csv(f'/Users/jackiebeltran/Documents/GitHub/RP_Learning/3_results/model_1/N77_parameters.csv')"
   ]
  },
  {
   "cell_type": "code",
   "execution_count": 31,
   "id": "157f7dda",
   "metadata": {},
   "outputs": [],
   "source": [
    "m2_data = pd.read_csv(f'/Users/jackiebeltran/Documents/GitHub/RP_Learning/3_results/model_2/N77_parameters.csv')"
   ]
  },
  {
   "cell_type": "markdown",
   "id": "eee46711",
   "metadata": {},
   "source": [
    "#### preproc"
   ]
  },
  {
   "cell_type": "code",
   "execution_count": 32,
   "id": "f0f96fe2",
   "metadata": {
    "scrolled": true
   },
   "outputs": [
    {
     "data": {
      "text/plain": [
       "Index(['Unnamed: 0', 'sub_ID', 'initial_alpha_conditions',\n",
       "       'initial_beta_conditions', 'fit_alpha', 'fit_beta', 'log_likelihood',\n",
       "       'BIC_model1', 'likelihood_per_trial', 'Iteration'],\n",
       "      dtype='object')"
      ]
     },
     "execution_count": 32,
     "metadata": {},
     "output_type": "execute_result"
    }
   ],
   "source": [
    "m1_data.columns"
   ]
  },
  {
   "cell_type": "code",
   "execution_count": 33,
   "id": "5aafbf14",
   "metadata": {
    "scrolled": true
   },
   "outputs": [
    {
     "data": {
      "text/plain": [
       "Index(['Unnamed: 0', 'subject_ID', 'initial_reward_conditions',\n",
       "       'initial_punishment_conditions', 'initial_beta_conditions',\n",
       "       'fit_reward_alpha', 'fit_punishment_alpha', 'fit_beta',\n",
       "       'log_likelihood', 'BIC_model2', 'likelihood_per_trial', 'Iteration'],\n",
       "      dtype='object')"
      ]
     },
     "execution_count": 33,
     "metadata": {},
     "output_type": "execute_result"
    }
   ],
   "source": [
    "m2_data.columns"
   ]
  },
  {
   "cell_type": "code",
   "execution_count": 34,
   "id": "32cf8972",
   "metadata": {},
   "outputs": [
    {
     "data": {
      "text/plain": [
       "Index(['Unnamed: 0', 'subject_ID', 'initial_alpha_conditions',\n",
       "       'initial_beta_conditions', 'fit_alpha', 'fit_beta', 'log_likelihood',\n",
       "       'BIC_model1', 'likelihood_per_trial', 'Iteration'],\n",
       "      dtype='object')"
      ]
     },
     "execution_count": 34,
     "metadata": {},
     "output_type": "execute_result"
    }
   ],
   "source": [
    "m1_data.rename(columns = {'sub_ID':'subject_ID'}, inplace = True)\n",
    "m1_data.columns"
   ]
  },
  {
   "cell_type": "code",
   "execution_count": 35,
   "id": "d22cb1ec",
   "metadata": {
    "scrolled": true
   },
   "outputs": [
    {
     "name": "stderr",
     "output_type": "stream",
     "text": [
      "/var/folders/jc/p5x3b5x57nj1x3fy75x85xwr0000gn/T/ipykernel_53346/4153519725.py:6: SettingWithCopyWarning: \n",
      "A value is trying to be set on a copy of a slice from a DataFrame.\n",
      "Try using .loc[row_indexer,col_indexer] = value instead\n",
      "\n",
      "See the caveats in the documentation: https://pandas.pydata.org/pandas-docs/stable/user_guide/indexing.html#returning-a-view-versus-a-copy\n",
      "  m1[\"model\"] = \"model_1\" # add a column\n",
      "/var/folders/jc/p5x3b5x57nj1x3fy75x85xwr0000gn/T/ipykernel_53346/4153519725.py:8: SettingWithCopyWarning: \n",
      "A value is trying to be set on a copy of a slice from a DataFrame.\n",
      "Try using .loc[row_indexer,col_indexer] = value instead\n",
      "\n",
      "See the caveats in the documentation: https://pandas.pydata.org/pandas-docs/stable/user_guide/indexing.html#returning-a-view-versus-a-copy\n",
      "  m1['subject'] = range(1, len(m1_data) + 1)\n"
     ]
    },
    {
     "data": {
      "text/html": [
       "<div>\n",
       "<style scoped>\n",
       "    .dataframe tbody tr th:only-of-type {\n",
       "        vertical-align: middle;\n",
       "    }\n",
       "\n",
       "    .dataframe tbody tr th {\n",
       "        vertical-align: top;\n",
       "    }\n",
       "\n",
       "    .dataframe thead th {\n",
       "        text-align: right;\n",
       "    }\n",
       "</style>\n",
       "<table border=\"1\" class=\"dataframe\">\n",
       "  <thead>\n",
       "    <tr style=\"text-align: right;\">\n",
       "      <th></th>\n",
       "      <th>BIC_model1</th>\n",
       "      <th>model</th>\n",
       "      <th>subject</th>\n",
       "    </tr>\n",
       "  </thead>\n",
       "  <tbody>\n",
       "    <tr>\n",
       "      <th>0</th>\n",
       "      <td>84.390029</td>\n",
       "      <td>model_1</td>\n",
       "      <td>1</td>\n",
       "    </tr>\n",
       "    <tr>\n",
       "      <th>1</th>\n",
       "      <td>101.211665</td>\n",
       "      <td>model_1</td>\n",
       "      <td>2</td>\n",
       "    </tr>\n",
       "    <tr>\n",
       "      <th>2</th>\n",
       "      <td>133.766127</td>\n",
       "      <td>model_1</td>\n",
       "      <td>3</td>\n",
       "    </tr>\n",
       "    <tr>\n",
       "      <th>3</th>\n",
       "      <td>97.725203</td>\n",
       "      <td>model_1</td>\n",
       "      <td>4</td>\n",
       "    </tr>\n",
       "    <tr>\n",
       "      <th>4</th>\n",
       "      <td>120.851030</td>\n",
       "      <td>model_1</td>\n",
       "      <td>5</td>\n",
       "    </tr>\n",
       "    <tr>\n",
       "      <th>...</th>\n",
       "      <td>...</td>\n",
       "      <td>...</td>\n",
       "      <td>...</td>\n",
       "    </tr>\n",
       "    <tr>\n",
       "      <th>72</th>\n",
       "      <td>118.162669</td>\n",
       "      <td>model_1</td>\n",
       "      <td>73</td>\n",
       "    </tr>\n",
       "    <tr>\n",
       "      <th>73</th>\n",
       "      <td>131.709473</td>\n",
       "      <td>model_1</td>\n",
       "      <td>74</td>\n",
       "    </tr>\n",
       "    <tr>\n",
       "      <th>74</th>\n",
       "      <td>63.067645</td>\n",
       "      <td>model_1</td>\n",
       "      <td>75</td>\n",
       "    </tr>\n",
       "    <tr>\n",
       "      <th>75</th>\n",
       "      <td>129.657951</td>\n",
       "      <td>model_1</td>\n",
       "      <td>76</td>\n",
       "    </tr>\n",
       "    <tr>\n",
       "      <th>76</th>\n",
       "      <td>64.440737</td>\n",
       "      <td>model_1</td>\n",
       "      <td>77</td>\n",
       "    </tr>\n",
       "  </tbody>\n",
       "</table>\n",
       "<p>77 rows × 3 columns</p>\n",
       "</div>"
      ],
      "text/plain": [
       "    BIC_model1    model  subject\n",
       "0    84.390029  model_1        1\n",
       "1   101.211665  model_1        2\n",
       "2   133.766127  model_1        3\n",
       "3    97.725203  model_1        4\n",
       "4   120.851030  model_1        5\n",
       "..         ...      ...      ...\n",
       "72  118.162669  model_1       73\n",
       "73  131.709473  model_1       74\n",
       "74   63.067645  model_1       75\n",
       "75  129.657951  model_1       76\n",
       "76   64.440737  model_1       77\n",
       "\n",
       "[77 rows x 3 columns]"
      ]
     },
     "execution_count": 35,
     "metadata": {},
     "output_type": "execute_result"
    }
   ],
   "source": [
    "# model 1 \n",
    "col_name = ['BIC_model1']\n",
    "\n",
    "m1=m1_data[col_name]\n",
    "\n",
    "m1[\"model\"] = \"model_1\" # add a column \n",
    "\n",
    "m1['subject'] = range(1, len(m1_data) + 1)\n",
    "\n",
    "m1"
   ]
  },
  {
   "cell_type": "code",
   "execution_count": 36,
   "id": "a1f60cdf",
   "metadata": {
    "scrolled": true
   },
   "outputs": [
    {
     "name": "stderr",
     "output_type": "stream",
     "text": [
      "/var/folders/jc/p5x3b5x57nj1x3fy75x85xwr0000gn/T/ipykernel_53346/1325148184.py:7: SettingWithCopyWarning: \n",
      "A value is trying to be set on a copy of a slice from a DataFrame.\n",
      "Try using .loc[row_indexer,col_indexer] = value instead\n",
      "\n",
      "See the caveats in the documentation: https://pandas.pydata.org/pandas-docs/stable/user_guide/indexing.html#returning-a-view-versus-a-copy\n",
      "  m2[\"model\"] = \"model_2\" # add a column\n",
      "/var/folders/jc/p5x3b5x57nj1x3fy75x85xwr0000gn/T/ipykernel_53346/1325148184.py:9: SettingWithCopyWarning: \n",
      "A value is trying to be set on a copy of a slice from a DataFrame.\n",
      "Try using .loc[row_indexer,col_indexer] = value instead\n",
      "\n",
      "See the caveats in the documentation: https://pandas.pydata.org/pandas-docs/stable/user_guide/indexing.html#returning-a-view-versus-a-copy\n",
      "  m2['subject'] = range(1, len(m2_data) + 1)\n"
     ]
    },
    {
     "data": {
      "text/html": [
       "<div>\n",
       "<style scoped>\n",
       "    .dataframe tbody tr th:only-of-type {\n",
       "        vertical-align: middle;\n",
       "    }\n",
       "\n",
       "    .dataframe tbody tr th {\n",
       "        vertical-align: top;\n",
       "    }\n",
       "\n",
       "    .dataframe thead th {\n",
       "        text-align: right;\n",
       "    }\n",
       "</style>\n",
       "<table border=\"1\" class=\"dataframe\">\n",
       "  <thead>\n",
       "    <tr style=\"text-align: right;\">\n",
       "      <th></th>\n",
       "      <th>BIC_model2</th>\n",
       "      <th>model</th>\n",
       "      <th>subject</th>\n",
       "    </tr>\n",
       "  </thead>\n",
       "  <tbody>\n",
       "    <tr>\n",
       "      <th>0</th>\n",
       "      <td>88.080751</td>\n",
       "      <td>model_2</td>\n",
       "      <td>1</td>\n",
       "    </tr>\n",
       "    <tr>\n",
       "      <th>1</th>\n",
       "      <td>104.640718</td>\n",
       "      <td>model_2</td>\n",
       "      <td>2</td>\n",
       "    </tr>\n",
       "    <tr>\n",
       "      <th>2</th>\n",
       "      <td>138.265926</td>\n",
       "      <td>model_2</td>\n",
       "      <td>3</td>\n",
       "    </tr>\n",
       "    <tr>\n",
       "      <th>3</th>\n",
       "      <td>99.776245</td>\n",
       "      <td>model_2</td>\n",
       "      <td>4</td>\n",
       "    </tr>\n",
       "    <tr>\n",
       "      <th>4</th>\n",
       "      <td>115.143905</td>\n",
       "      <td>model_2</td>\n",
       "      <td>5</td>\n",
       "    </tr>\n",
       "    <tr>\n",
       "      <th>...</th>\n",
       "      <td>...</td>\n",
       "      <td>...</td>\n",
       "      <td>...</td>\n",
       "    </tr>\n",
       "    <tr>\n",
       "      <th>72</th>\n",
       "      <td>111.658877</td>\n",
       "      <td>model_2</td>\n",
       "      <td>73</td>\n",
       "    </tr>\n",
       "    <tr>\n",
       "      <th>73</th>\n",
       "      <td>136.167304</td>\n",
       "      <td>model_2</td>\n",
       "      <td>74</td>\n",
       "    </tr>\n",
       "    <tr>\n",
       "      <th>74</th>\n",
       "      <td>67.567017</td>\n",
       "      <td>model_2</td>\n",
       "      <td>75</td>\n",
       "    </tr>\n",
       "    <tr>\n",
       "      <th>75</th>\n",
       "      <td>129.273616</td>\n",
       "      <td>model_2</td>\n",
       "      <td>76</td>\n",
       "    </tr>\n",
       "    <tr>\n",
       "      <th>76</th>\n",
       "      <td>68.939955</td>\n",
       "      <td>model_2</td>\n",
       "      <td>77</td>\n",
       "    </tr>\n",
       "  </tbody>\n",
       "</table>\n",
       "<p>77 rows × 3 columns</p>\n",
       "</div>"
      ],
      "text/plain": [
       "    BIC_model2    model  subject\n",
       "0    88.080751  model_2        1\n",
       "1   104.640718  model_2        2\n",
       "2   138.265926  model_2        3\n",
       "3    99.776245  model_2        4\n",
       "4   115.143905  model_2        5\n",
       "..         ...      ...      ...\n",
       "72  111.658877  model_2       73\n",
       "73  136.167304  model_2       74\n",
       "74   67.567017  model_2       75\n",
       "75  129.273616  model_2       76\n",
       "76   68.939955  model_2       77\n",
       "\n",
       "[77 rows x 3 columns]"
      ]
     },
     "execution_count": 36,
     "metadata": {},
     "output_type": "execute_result"
    }
   ],
   "source": [
    "# model 2 \n",
    "\n",
    "col_name = ['BIC_model2']\n",
    "\n",
    "m2=m2_data[col_name]\n",
    "\n",
    "m2[\"model\"] = \"model_2\" # add a column \n",
    "\n",
    "m2['subject'] = range(1, len(m2_data) + 1)\n",
    "\n",
    "m2"
   ]
  },
  {
   "cell_type": "code",
   "execution_count": 37,
   "id": "de8674df",
   "metadata": {
    "scrolled": true
   },
   "outputs": [
    {
     "data": {
      "text/html": [
       "<div>\n",
       "<style scoped>\n",
       "    .dataframe tbody tr th:only-of-type {\n",
       "        vertical-align: middle;\n",
       "    }\n",
       "\n",
       "    .dataframe tbody tr th {\n",
       "        vertical-align: top;\n",
       "    }\n",
       "\n",
       "    .dataframe thead th {\n",
       "        text-align: right;\n",
       "    }\n",
       "</style>\n",
       "<table border=\"1\" class=\"dataframe\">\n",
       "  <thead>\n",
       "    <tr style=\"text-align: right;\">\n",
       "      <th></th>\n",
       "      <th>subject</th>\n",
       "      <th>subject</th>\n",
       "      <th>BIC_model1</th>\n",
       "      <th>BIC_model2</th>\n",
       "    </tr>\n",
       "  </thead>\n",
       "  <tbody>\n",
       "    <tr>\n",
       "      <th>0</th>\n",
       "      <td>1</td>\n",
       "      <td>1</td>\n",
       "      <td>84.390029</td>\n",
       "      <td>88.080751</td>\n",
       "    </tr>\n",
       "    <tr>\n",
       "      <th>1</th>\n",
       "      <td>2</td>\n",
       "      <td>2</td>\n",
       "      <td>101.211665</td>\n",
       "      <td>104.640718</td>\n",
       "    </tr>\n",
       "    <tr>\n",
       "      <th>2</th>\n",
       "      <td>3</td>\n",
       "      <td>3</td>\n",
       "      <td>133.766127</td>\n",
       "      <td>138.265926</td>\n",
       "    </tr>\n",
       "    <tr>\n",
       "      <th>3</th>\n",
       "      <td>4</td>\n",
       "      <td>4</td>\n",
       "      <td>97.725203</td>\n",
       "      <td>99.776245</td>\n",
       "    </tr>\n",
       "    <tr>\n",
       "      <th>4</th>\n",
       "      <td>5</td>\n",
       "      <td>5</td>\n",
       "      <td>120.851030</td>\n",
       "      <td>115.143905</td>\n",
       "    </tr>\n",
       "    <tr>\n",
       "      <th>...</th>\n",
       "      <td>...</td>\n",
       "      <td>...</td>\n",
       "      <td>...</td>\n",
       "      <td>...</td>\n",
       "    </tr>\n",
       "    <tr>\n",
       "      <th>72</th>\n",
       "      <td>73</td>\n",
       "      <td>73</td>\n",
       "      <td>118.162669</td>\n",
       "      <td>111.658877</td>\n",
       "    </tr>\n",
       "    <tr>\n",
       "      <th>73</th>\n",
       "      <td>74</td>\n",
       "      <td>74</td>\n",
       "      <td>131.709473</td>\n",
       "      <td>136.167304</td>\n",
       "    </tr>\n",
       "    <tr>\n",
       "      <th>74</th>\n",
       "      <td>75</td>\n",
       "      <td>75</td>\n",
       "      <td>63.067645</td>\n",
       "      <td>67.567017</td>\n",
       "    </tr>\n",
       "    <tr>\n",
       "      <th>75</th>\n",
       "      <td>76</td>\n",
       "      <td>76</td>\n",
       "      <td>129.657951</td>\n",
       "      <td>129.273616</td>\n",
       "    </tr>\n",
       "    <tr>\n",
       "      <th>76</th>\n",
       "      <td>77</td>\n",
       "      <td>77</td>\n",
       "      <td>64.440737</td>\n",
       "      <td>68.939955</td>\n",
       "    </tr>\n",
       "  </tbody>\n",
       "</table>\n",
       "<p>77 rows × 4 columns</p>\n",
       "</div>"
      ],
      "text/plain": [
       "    subject  subject  BIC_model1  BIC_model2\n",
       "0         1        1   84.390029   88.080751\n",
       "1         2        2  101.211665  104.640718\n",
       "2         3        3  133.766127  138.265926\n",
       "3         4        4   97.725203   99.776245\n",
       "4         5        5  120.851030  115.143905\n",
       "..      ...      ...         ...         ...\n",
       "72       73       73  118.162669  111.658877\n",
       "73       74       74  131.709473  136.167304\n",
       "74       75       75   63.067645   67.567017\n",
       "75       76       76  129.657951  129.273616\n",
       "76       77       77   64.440737   68.939955\n",
       "\n",
       "[77 rows x 4 columns]"
      ]
     },
     "execution_count": 37,
     "metadata": {},
     "output_type": "execute_result"
    }
   ],
   "source": [
    "# comparison of model bics \n",
    "\n",
    "bic_comparison = pd.concat([m1, m2], axis=1)\n",
    "bic_comparison = bic_comparison[[\"subject\", \"BIC_model1\", \"BIC_model2\"]]\n",
    "bic_comparison"
   ]
  },
  {
   "cell_type": "code",
   "execution_count": 38,
   "id": "86739e12",
   "metadata": {
    "scrolled": true
   },
   "outputs": [],
   "source": [
    "bic_comparison.to_csv(f'/Users/jackiebeltran/Documents/GitHub/RP_Learning/3_results/bic_comparison.csv')"
   ]
  },
  {
   "cell_type": "code",
   "execution_count": 39,
   "id": "a2e89ebf",
   "metadata": {
    "scrolled": true
   },
   "outputs": [
    {
     "data": {
      "text/html": [
       "<div>\n",
       "<style scoped>\n",
       "    .dataframe tbody tr th:only-of-type {\n",
       "        vertical-align: middle;\n",
       "    }\n",
       "\n",
       "    .dataframe tbody tr th {\n",
       "        vertical-align: top;\n",
       "    }\n",
       "\n",
       "    .dataframe thead th {\n",
       "        text-align: right;\n",
       "    }\n",
       "</style>\n",
       "<table border=\"1\" class=\"dataframe\">\n",
       "  <thead>\n",
       "    <tr style=\"text-align: right;\">\n",
       "      <th></th>\n",
       "      <th>subject</th>\n",
       "      <th>model</th>\n",
       "      <th>Model</th>\n",
       "      <th>BIC</th>\n",
       "    </tr>\n",
       "  </thead>\n",
       "  <tbody>\n",
       "    <tr>\n",
       "      <th>0</th>\n",
       "      <td>1</td>\n",
       "      <td>model_2</td>\n",
       "      <td>BIC_model2</td>\n",
       "      <td>88.080751</td>\n",
       "    </tr>\n",
       "    <tr>\n",
       "      <th>1</th>\n",
       "      <td>2</td>\n",
       "      <td>model_2</td>\n",
       "      <td>BIC_model2</td>\n",
       "      <td>104.640718</td>\n",
       "    </tr>\n",
       "    <tr>\n",
       "      <th>2</th>\n",
       "      <td>3</td>\n",
       "      <td>model_2</td>\n",
       "      <td>BIC_model2</td>\n",
       "      <td>138.265926</td>\n",
       "    </tr>\n",
       "    <tr>\n",
       "      <th>3</th>\n",
       "      <td>4</td>\n",
       "      <td>model_2</td>\n",
       "      <td>BIC_model2</td>\n",
       "      <td>99.776245</td>\n",
       "    </tr>\n",
       "    <tr>\n",
       "      <th>4</th>\n",
       "      <td>5</td>\n",
       "      <td>model_2</td>\n",
       "      <td>BIC_model2</td>\n",
       "      <td>115.143905</td>\n",
       "    </tr>\n",
       "    <tr>\n",
       "      <th>...</th>\n",
       "      <td>...</td>\n",
       "      <td>...</td>\n",
       "      <td>...</td>\n",
       "      <td>...</td>\n",
       "    </tr>\n",
       "    <tr>\n",
       "      <th>72</th>\n",
       "      <td>73</td>\n",
       "      <td>model_2</td>\n",
       "      <td>BIC_model2</td>\n",
       "      <td>111.658877</td>\n",
       "    </tr>\n",
       "    <tr>\n",
       "      <th>73</th>\n",
       "      <td>74</td>\n",
       "      <td>model_2</td>\n",
       "      <td>BIC_model2</td>\n",
       "      <td>136.167304</td>\n",
       "    </tr>\n",
       "    <tr>\n",
       "      <th>74</th>\n",
       "      <td>75</td>\n",
       "      <td>model_2</td>\n",
       "      <td>BIC_model2</td>\n",
       "      <td>67.567017</td>\n",
       "    </tr>\n",
       "    <tr>\n",
       "      <th>75</th>\n",
       "      <td>76</td>\n",
       "      <td>model_2</td>\n",
       "      <td>BIC_model2</td>\n",
       "      <td>129.273616</td>\n",
       "    </tr>\n",
       "    <tr>\n",
       "      <th>76</th>\n",
       "      <td>77</td>\n",
       "      <td>model_2</td>\n",
       "      <td>BIC_model2</td>\n",
       "      <td>68.939955</td>\n",
       "    </tr>\n",
       "  </tbody>\n",
       "</table>\n",
       "<p>77 rows × 4 columns</p>\n",
       "</div>"
      ],
      "text/plain": [
       "    subject    model       Model         BIC\n",
       "0         1  model_2  BIC_model2   88.080751\n",
       "1         2  model_2  BIC_model2  104.640718\n",
       "2         3  model_2  BIC_model2  138.265926\n",
       "3         4  model_2  BIC_model2   99.776245\n",
       "4         5  model_2  BIC_model2  115.143905\n",
       "..      ...      ...         ...         ...\n",
       "72       73  model_2  BIC_model2  111.658877\n",
       "73       74  model_2  BIC_model2  136.167304\n",
       "74       75  model_2  BIC_model2   67.567017\n",
       "75       76  model_2  BIC_model2  129.273616\n",
       "76       77  model_2  BIC_model2   68.939955\n",
       "\n",
       "[77 rows x 4 columns]"
      ]
     },
     "execution_count": 39,
     "metadata": {},
     "output_type": "execute_result"
    }
   ],
   "source": [
    "m1_bics = pd.melt(m1, id_vars=['subject', 'model'],\n",
    "              var_name='Model', value_name='BIC')\n",
    "m1_bics\n",
    "\n",
    "m2_bics = pd.melt(m2, id_vars=['subject', 'model'],\n",
    "              var_name='Model', value_name='BIC')\n",
    "m2_bics"
   ]
  },
  {
   "cell_type": "code",
   "execution_count": 40,
   "id": "85053f9b",
   "metadata": {
    "scrolled": true
   },
   "outputs": [],
   "source": [
    "df =pd.concat([m1_bics, m2_bics], axis=0)"
   ]
  },
  {
   "cell_type": "code",
   "execution_count": 41,
   "id": "2b654c7a",
   "metadata": {
    "scrolled": false
   },
   "outputs": [
    {
     "data": {
      "text/html": [
       "<div>\n",
       "<style scoped>\n",
       "    .dataframe tbody tr th:only-of-type {\n",
       "        vertical-align: middle;\n",
       "    }\n",
       "\n",
       "    .dataframe tbody tr th {\n",
       "        vertical-align: top;\n",
       "    }\n",
       "\n",
       "    .dataframe thead th {\n",
       "        text-align: right;\n",
       "    }\n",
       "</style>\n",
       "<table border=\"1\" class=\"dataframe\">\n",
       "  <thead>\n",
       "    <tr style=\"text-align: right;\">\n",
       "      <th></th>\n",
       "      <th>subject</th>\n",
       "      <th>model</th>\n",
       "      <th>Model</th>\n",
       "      <th>BIC</th>\n",
       "    </tr>\n",
       "  </thead>\n",
       "  <tbody>\n",
       "    <tr>\n",
       "      <th>0</th>\n",
       "      <td>1</td>\n",
       "      <td>model_1</td>\n",
       "      <td>BIC_model1</td>\n",
       "      <td>84.390029</td>\n",
       "    </tr>\n",
       "    <tr>\n",
       "      <th>1</th>\n",
       "      <td>2</td>\n",
       "      <td>model_1</td>\n",
       "      <td>BIC_model1</td>\n",
       "      <td>101.211665</td>\n",
       "    </tr>\n",
       "    <tr>\n",
       "      <th>2</th>\n",
       "      <td>3</td>\n",
       "      <td>model_1</td>\n",
       "      <td>BIC_model1</td>\n",
       "      <td>133.766127</td>\n",
       "    </tr>\n",
       "    <tr>\n",
       "      <th>3</th>\n",
       "      <td>4</td>\n",
       "      <td>model_1</td>\n",
       "      <td>BIC_model1</td>\n",
       "      <td>97.725203</td>\n",
       "    </tr>\n",
       "    <tr>\n",
       "      <th>4</th>\n",
       "      <td>5</td>\n",
       "      <td>model_1</td>\n",
       "      <td>BIC_model1</td>\n",
       "      <td>120.851030</td>\n",
       "    </tr>\n",
       "    <tr>\n",
       "      <th>...</th>\n",
       "      <td>...</td>\n",
       "      <td>...</td>\n",
       "      <td>...</td>\n",
       "      <td>...</td>\n",
       "    </tr>\n",
       "    <tr>\n",
       "      <th>72</th>\n",
       "      <td>73</td>\n",
       "      <td>model_2</td>\n",
       "      <td>BIC_model2</td>\n",
       "      <td>111.658877</td>\n",
       "    </tr>\n",
       "    <tr>\n",
       "      <th>73</th>\n",
       "      <td>74</td>\n",
       "      <td>model_2</td>\n",
       "      <td>BIC_model2</td>\n",
       "      <td>136.167304</td>\n",
       "    </tr>\n",
       "    <tr>\n",
       "      <th>74</th>\n",
       "      <td>75</td>\n",
       "      <td>model_2</td>\n",
       "      <td>BIC_model2</td>\n",
       "      <td>67.567017</td>\n",
       "    </tr>\n",
       "    <tr>\n",
       "      <th>75</th>\n",
       "      <td>76</td>\n",
       "      <td>model_2</td>\n",
       "      <td>BIC_model2</td>\n",
       "      <td>129.273616</td>\n",
       "    </tr>\n",
       "    <tr>\n",
       "      <th>76</th>\n",
       "      <td>77</td>\n",
       "      <td>model_2</td>\n",
       "      <td>BIC_model2</td>\n",
       "      <td>68.939955</td>\n",
       "    </tr>\n",
       "  </tbody>\n",
       "</table>\n",
       "<p>154 rows × 4 columns</p>\n",
       "</div>"
      ],
      "text/plain": [
       "    subject    model       Model         BIC\n",
       "0         1  model_1  BIC_model1   84.390029\n",
       "1         2  model_1  BIC_model1  101.211665\n",
       "2         3  model_1  BIC_model1  133.766127\n",
       "3         4  model_1  BIC_model1   97.725203\n",
       "4         5  model_1  BIC_model1  120.851030\n",
       "..      ...      ...         ...         ...\n",
       "72       73  model_2  BIC_model2  111.658877\n",
       "73       74  model_2  BIC_model2  136.167304\n",
       "74       75  model_2  BIC_model2   67.567017\n",
       "75       76  model_2  BIC_model2  129.273616\n",
       "76       77  model_2  BIC_model2   68.939955\n",
       "\n",
       "[154 rows x 4 columns]"
      ]
     },
     "execution_count": 41,
     "metadata": {},
     "output_type": "execute_result"
    }
   ],
   "source": [
    "df"
   ]
  },
  {
   "cell_type": "markdown",
   "id": "2635029b",
   "metadata": {},
   "source": [
    "### plots"
   ]
  },
  {
   "cell_type": "code",
   "execution_count": 42,
   "id": "9bae25a9",
   "metadata": {
    "scrolled": false
   },
   "outputs": [
    {
     "data": {
      "text/plain": [
       "<matplotlib.legend.Legend at 0x7fb73048b400>"
      ]
     },
     "execution_count": 42,
     "metadata": {},
     "output_type": "execute_result"
    },
    {
     "data": {
      "image/png": "[encoded data removed]",
      "text/plain": [
       "<Figure size 2520x720 with 1 Axes>"
      ]
     },
     "metadata": {},
     "output_type": "display_data"
    }
   ],
   "source": [
    "# dimensions\n",
    "\n",
    "sns.set(font_scale=1.5)\n",
    "sns.set_style(\"whitegrid\")\n",
    "\n",
    "a4_dims = (35, 10)\n",
    "\n",
    "fig, ax = pyplot.subplots(figsize=a4_dims)\n",
    "sns.barplot(data=df, palette= \"Greys\", x=\"subject\", y=\"BIC\", hue = \"Model\")\n",
    "\n",
    "# plt.xticks([49, 99, 149, 199, 249, 299])\n",
    "\n",
    "# Set label for x-axis\n",
    "ax.set_xlabel( \"subject\" , size = 30 )\n",
    "  \n",
    "# Set label for y-axis\n",
    "ax.set_ylabel( \"BIC\" , size = 30 )\n",
    "  \n",
    "# Set title for plot\n",
    "ax.set_title( \"Model Comparison\" , size = 30 )\n",
    "\n",
    "plt.legend(loc='best', fontsize = 20)"
   ]
  },
  {
   "cell_type": "code",
   "execution_count": 47,
   "id": "9237d2b0",
   "metadata": {},
   "outputs": [
    {
     "name": "stdout",
     "output_type": "stream",
     "text": [
      "model 1 BIC: \n",
      "60 subjects have a lower BIC for model 1 than model 2\n",
      "model 2 BIC: \n",
      "17 subjects have a lower BIC for model 2 than model 1\n"
     ]
    }
   ],
   "source": [
    "# model 1\n",
    "count = (bic_comparison['BIC_model1'] < bic_comparison['BIC_model2']).sum()    \n",
    "print(\"model 1 BIC: \")\n",
    "print(str(count) + \" subjects have a lower BIC for model 1 than model 2\")\n",
    "\n",
    "# model 2, 0\n",
    "count = (bic_comparison['BIC_model2'] < bic_comparison['BIC_model1']).sum() \n",
    "print(\"model 2 BIC: \")\n",
    "print(str(count) + \" subjects have a lower BIC for model 2 than model 1\" )"
   ]
  },
  {
   "cell_type": "markdown",
   "id": "ae024f41",
   "metadata": {},
   "source": [
    "## Paired sample t test"
   ]
  },
  {
   "cell_type": "code",
   "execution_count": 25,
   "id": "dd0a63de",
   "metadata": {},
   "outputs": [],
   "source": [
    "import scipy.stats as stats"
   ]
  },
  {
   "cell_type": "code",
   "execution_count": 44,
   "id": "64e90b4f",
   "metadata": {},
   "outputs": [
    {
     "name": "stdout",
     "output_type": "stream",
     "text": [
      "T-statistic: [-1.96226272]\n",
      "P-value: [0.05339283]\n"
     ]
    }
   ],
   "source": [
    "m1_bic = bic_comparison[[\"BIC_model1\"]]\n",
    "m2_bic = bic_comparison[[\"BIC_model2\"]]\n",
    "\n",
    "t_statistic, p_value = stats.ttest_rel(m1_bic, m2_bic)\n",
    "\n",
    "# Print the results\n",
    "print(\"T-statistic:\", t_statistic)\n",
    "print(\"P-value:\", p_value)\n"
   ]
  },
  {
   "cell_type": "markdown",
   "id": "e3f68581",
   "metadata": {},
   "source": []
  }
 ],
 "metadata": {
  "kernelspec": {
   "display_name": "Python 3 (ipykernel)",
   "language": "python",
   "name": "python3"
  },
  "language_info": {
   "codemirror_mode": {
    "name": "ipython",
    "version": 3
   },
   "file_extension": ".py",
   "mimetype": "text/x-python",
   "name": "python",
   "nbconvert_exporter": "python",
   "pygments_lexer": "ipython3",
   "version": "3.9.12"
  }
 },
 "nbformat": 4,
 "nbformat_minor": 5
}
