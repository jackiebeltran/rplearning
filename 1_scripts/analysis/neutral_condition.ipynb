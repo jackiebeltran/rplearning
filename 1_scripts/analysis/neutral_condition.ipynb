{
 "cells": [
  {
   "cell_type": "markdown",
   "id": "6b830882",
   "metadata": {},
   "source": [
    "If there is a bias going on in the neutral condition given the similarity of stimulus 4 (20% rewarded) & 5, we'd expect that during neutral trials people might avoid picking stimulus 5 and favor stimulus 6   \n",
    "\n",
    "If there is some type of bias, we'd see participants choose stimulus 6 (encoded 2) more than 5 (encoded 1)  "
   ]
  },
  {
   "cell_type": "code",
   "execution_count": 1,
   "id": "b19c25da",
   "metadata": {},
   "outputs": [],
   "source": [
    "import pandas as pd\n",
    "from scipy.io import savemat\n",
    "import os\n",
    "import os.path as osp\n",
    "import numpy as np\n",
    "import glob\n",
    "import scipy.io"
   ]
  },
  {
   "cell_type": "code",
   "execution_count": 2,
   "id": "4e599f35",
   "metadata": {
    "scrolled": true
   },
   "outputs": [
    {
     "data": {
      "text/plain": [
       "'/Users/jackiebeltran/Documents/RL/scripts'"
      ]
     },
     "execution_count": 2,
     "metadata": {},
     "output_type": "execute_result"
    }
   ],
   "source": [
    "os.getcwd()"
   ]
  },
  {
   "cell_type": "markdown",
   "id": "ab17c978",
   "metadata": {},
   "source": [
    "#### workthrough for N=1"
   ]
  },
  {
   "cell_type": "code",
   "execution_count": null,
   "id": "a88aff66",
   "metadata": {},
   "outputs": [],
   "source": [
    "/Users/jackiebeltran/Documents/RL_2/N_55/mdd/402.csv"
   ]
  },
  {
   "cell_type": "code",
   "execution_count": null,
   "id": "c0fe6efa",
   "metadata": {
    "scrolled": true
   },
   "outputs": [],
   "source": [
    "df = pd.read_csv('../../RL_2/N_55/mdd/402.csv')\n",
    "df"
   ]
  },
  {
   "cell_type": "code",
   "execution_count": null,
   "id": "67d7245a",
   "metadata": {},
   "outputs": [],
   "source": [
    "df.dtypes"
   ]
  },
  {
   "cell_type": "code",
   "execution_count": null,
   "id": "7a021a73",
   "metadata": {
    "scrolled": true
   },
   "outputs": [],
   "source": [
    "df = df[['sub_ID','actions', 'rewards', 'condition']]\n",
    "\n",
    "neutral = df[df[\"condition\"] == 3]\n",
    "\n",
    "neutral"
   ]
  },
  {
   "cell_type": "code",
   "execution_count": null,
   "id": "9087dfbc",
   "metadata": {},
   "outputs": [],
   "source": [
    "# action 2 corresponds to stimulus 6 \n",
    "# count how many times action 2 is picked and divide by 30 \n",
    "\n",
    "count_6 = 0\n",
    "\n",
    "# Iterate over each value in the column and count the occurrences of the specified value\n",
    "for value in neutral['actions']:\n",
    "    if value == 2:\n",
    "        count_6 += 1\n",
    "total = (count_6/30)*100\n",
    "print(\"Number of times participant chose stimulus similar to punishment trial is: \" + str(total) + '%')"
   ]
  },
  {
   "cell_type": "markdown",
   "id": "467a6473",
   "metadata": {},
   "source": [
    "### loop through all subjects data"
   ]
  },
  {
   "cell_type": "code",
   "execution_count": 3,
   "id": "03310f61",
   "metadata": {},
   "outputs": [
    {
     "data": {
      "text/plain": [
       "'/Users/jackiebeltran/Documents/RL/scripts'"
      ]
     },
     "execution_count": 3,
     "metadata": {},
     "output_type": "execute_result"
    }
   ],
   "source": [
    "os.getcwd()"
   ]
  },
  {
   "cell_type": "code",
   "execution_count": 4,
   "id": "7549778d",
   "metadata": {},
   "outputs": [
    {
     "name": "stdout",
     "output_type": "stream",
     "text": [
      "Number of participants is 56\n"
     ]
    }
   ],
   "source": [
    "flist = glob.glob('../../RL_2/N_55/neutral/*.csv')\n",
    "flist\n",
    "print(\"Number of participants is \" + str(len(flist)))"
   ]
  },
  {
   "cell_type": "code",
   "execution_count": null,
   "id": "dc709560",
   "metadata": {},
   "outputs": [],
   "source": [
    "def neutral_count(filename):    \n",
    "               \n",
    "    choice_6 = [] # empty list to store results\n",
    "\n",
    "    a = os.path.basename(filename)\n",
    "    subID = os.path.splitext(a)[0]\n",
    "    \n",
    "    # load data & subset for columns of interest\n",
    "    df = pd.read_csv(filename)\n",
    "    df = df[['sub_ID','actions', 'rewards', 'condition']]\n",
    "    neutral = df[df[\"condition\"] == 3]\n",
    "    \n",
    "    # create empty counter variable\n",
    "    count_6 = 0\n",
    "\n",
    "    # Iterate over each value in the column and count the occurrences of the specified value\n",
    "    for value in neutral['actions']:\n",
    "        if value == 2:\n",
    "            count_6 += 1\n",
    "    total = (count_6/30)*100\n",
    "#     print(\"Number of times participant \" + str(subID) + \" chose stimulus similar to punishment trial is: \" + str(total) + '%')\n",
    "    \n",
    "      \n",
    "    results_df = pd.DataFrame({\n",
    "    'subject_ID': subID,\n",
    "    'choice_6': total}, \n",
    "    index=pd.Index(df['sub_ID'].unique(), name='participant_id'))\n",
    "\n",
    "    choice_6.append(results_df)\n",
    "\n",
    "    final_result_df = pd.concat(choice_6, ignore_index=True)\n",
    "    \n",
    "    return final_result_df\n"
   ]
  },
  {
   "cell_type": "code",
   "execution_count": null,
   "id": "788a2feb",
   "metadata": {
    "scrolled": true
   },
   "outputs": [],
   "source": [
    "final_df = pd.DataFrame()\n",
    "\n",
    "for i in flist:\n",
    "    \n",
    "    count_results = neutral_count(i)\n",
    "    \n",
    "    final_df = final_df.append(count_results, ignore_index=True)\n",
    "    \n",
    "    final_df = final_df.sort_values(by=[\"subject_ID\"])\n",
    "\n",
    "final_df"
   ]
  },
  {
   "cell_type": "code",
   "execution_count": null,
   "id": "5696a56d",
   "metadata": {},
   "outputs": [],
   "source": [
    "os.getcwd()"
   ]
  },
  {
   "cell_type": "code",
   "execution_count": null,
   "id": "4866125a",
   "metadata": {},
   "outputs": [],
   "source": [
    "# save this output \n",
    "\n",
    "final_df.to_csv('../../RL_2/N_55/neutral/neutral_choice.csv') "
   ]
  },
  {
   "cell_type": "code",
   "execution_count": null,
   "id": "10937b1a",
   "metadata": {},
   "outputs": [],
   "source": []
  },
  {
   "cell_type": "code",
   "execution_count": null,
   "id": "bd91b9ad",
   "metadata": {},
   "outputs": [],
   "source": []
  },
  {
   "cell_type": "markdown",
   "id": "f685478e",
   "metadata": {},
   "source": [
    "### from this final dataframe, how many are greater than 50.0%"
   ]
  },
  {
   "cell_type": "code",
   "execution_count": null,
   "id": "b2633302",
   "metadata": {},
   "outputs": [],
   "source": [
    "count = 0\n",
    "\n",
    "# Iterate over each value in the column and count the occurrences of the specified value\n",
    "for value in final_df['choice_6']:\n",
    "    if value >= 50:\n",
    "        count += 1\n"
   ]
  },
  {
   "cell_type": "code",
   "execution_count": null,
   "id": "693479ef",
   "metadata": {},
   "outputs": [],
   "source": [
    "print(str(count) + \"/55 participants favored the 6th stimulus >= 50% of the time during neutral conditions\" )"
   ]
  },
  {
   "cell_type": "code",
   "execution_count": null,
   "id": "1f658a9f",
   "metadata": {},
   "outputs": [],
   "source": []
  }
 ],
 "metadata": {
  "kernelspec": {
   "display_name": "Python 3 (ipykernel)",
   "language": "python",
   "name": "python3"
  },
  "language_info": {
   "codemirror_mode": {
    "name": "ipython",
    "version": 3
   },
   "file_extension": ".py",
   "mimetype": "text/x-python",
   "name": "python",
   "nbconvert_exporter": "python",
   "pygments_lexer": "ipython3",
   "version": "3.9.12"
  }
 },
 "nbformat": 4,
 "nbformat_minor": 5
}
