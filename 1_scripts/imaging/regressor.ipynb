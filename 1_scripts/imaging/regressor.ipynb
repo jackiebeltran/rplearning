{
 "cells": [
  {
   "cell_type": "markdown",
   "id": "fec6c207",
   "metadata": {},
   "source": [
    "This script serves to obtain the timing information for first level modeling. ** it is run locally as it takes in the raw fMRI data"
   ]
  },
  {
   "cell_type": "code",
   "execution_count": 1,
   "id": "b3b7fa77",
   "metadata": {},
   "outputs": [],
   "source": [
    "import pandas as pd\n",
    "import os"
   ]
  },
  {
   "cell_type": "code",
   "execution_count": 2,
   "id": "c13cc273",
   "metadata": {
    "scrolled": false
   },
   "outputs": [
    {
     "data": {
      "text/plain": [
       "'/Users/jackiebeltran/Documents/RL/scripts'"
      ]
     },
     "execution_count": 2,
     "metadata": {},
     "output_type": "execute_result"
    }
   ],
   "source": [
    "os.getcwd()"
   ]
  },
  {
   "cell_type": "code",
   "execution_count": 11,
   "id": "49bc6b47",
   "metadata": {},
   "outputs": [],
   "source": [
    "flist=os.listdir(\"../raw_data_N83\")"
   ]
  },
  {
   "cell_type": "code",
   "execution_count": 13,
   "id": "de7f3aa1",
   "metadata": {
    "scrolled": true
   },
   "outputs": [
    {
     "name": "stdout",
     "output_type": "stream",
     "text": [
      "Participants in this dataset are: 83\n"
     ]
    }
   ],
   "source": [
    "print(\"Participants in this dataset are: \" + str(len(flist)))"
   ]
  },
  {
   "cell_type": "code",
   "execution_count": 14,
   "id": "1aa108aa",
   "metadata": {},
   "outputs": [],
   "source": [
    "dataDir='../raw_data_N83/'\n",
    "resDir='../data/regressor/'"
   ]
  },
  {
   "cell_type": "code",
   "execution_count": 16,
   "id": "0b16e0a6",
   "metadata": {},
   "outputs": [],
   "source": [
    "def regressors(fname):\n",
    "#find user id\n",
    "    fvals=fname.split('_')\n",
    "    uid=fvals[0] \n",
    "    \n",
    "    print(f'Starting Analysis for {uid}')\n",
    "#load df\n",
    "    df=pd.read_csv(dataDir+fname)\n",
    "    \n",
    "# trigger val\n",
    "    trig=df.trigger[0]\n",
    "    \n",
    "#Fix values\n",
    "    fix=df.fix_onset.apply(lambda x: x-trig)\n",
    "    fix.to_csv(f'{resDir+uid}_fix.txt',index=False,header=False)\n",
    "    print(f'{uid} - Saved Fix values')\n",
    "    \n",
    "#Stimulus values\n",
    "    df = df.assign(Stim = lambda x: (x['stim_onset'] -trig))\n",
    "    cond=list(df.condition.unique())\n",
    "    for i in cond:\n",
    "        df_temp=df.loc[(df['condition']== i)]\n",
    "        df_temp.Stim.to_csv(f'{resDir+uid}_stimulus_{i}.txt',index=False,header=False)\n",
    "    print(f'{uid} - Saved Stimulus values')\n",
    "    \n",
    "#Choice values\n",
    "    df['goNogo']=df[\"key_resp_2.keys\"].replace({\"None\": \"Nogo\", \"2\":\"go\"})\n",
    "    \n",
    "    df = df.assign(Choice = lambda x: (x['choice_onset'] -trig))\n",
    "    df.Choice.to_csv(f'{resDir+uid}_choice.txt',index=False,header=False)\n",
    "        \n",
    "    print(f'{uid} - Saved Choices values')\n",
    "        \n",
    "#Feedback\n",
    "    df = df.assign(FedOn = lambda x: (x['outcome_onset'] -trig))\n",
    "    \n",
    "    # save all feedback info in one file \n",
    "    df.FedOn.to_csv(f'{resDir+uid}_feedback.txt',index=False,header=False)\n",
    "    \n",
    "    print(f'{uid} - Saved all Feedback values')\n",
    "    \n",
    "    condFed=list(df.feedback.unique())   \n",
    "    for i in condFed:\n",
    "        df_temp=df.loc[(df['feedback']== i)]\n",
    "        df_temp.FedOn.to_csv(f'{resDir+uid}_feedback_{i}.txt',index=False,header=False)\n",
    "    \n",
    "    print(f'{uid} - Saved Feedback values')\n",
    "    \n",
    "#Condition-Feedback\n",
    "    condChoice=list(df.goNogo.unique())\n",
    "    condFed=[('gain','win'), \n",
    "             ('gain','nothing'),\n",
    "             ('loss','loss'),\n",
    "             ('loss','nothing'),\n",
    "            ('neutral','nil')]\n",
    "    \n",
    "    for c, f in condFed:\n",
    "        df_temp=df.loc[(df['condition']== c) & (df['feedback']== f)]\n",
    "        if len(df_temp):\n",
    "            df_temp.FedOn.to_csv(f'{resDir+uid}_feedback_{c}-{f}.txt',index=False,header=False)\n",
    "\n",
    "    print(f'{uid} - Saved Condition-Feedback values')\n",
    "    \n",
    "#KeyResp\n",
    "    df['KeyRT']=None\n",
    "    for i in range(len(df)):\n",
    "        if df.goNogo[i]=='No go':\n",
    "            df.KeyRT[i]=0\n",
    "        elif df.goNogo[i]=='go':\n",
    "            df.KeyRT[i]=float(df['key_resp_2.rt'][i])\n",
    "    \n",
    "    df = df.assign(KeyOn = lambda x: x['Stim'] + x['KeyRT'])\n",
    "    \n",
    "    for i in condChoice:\n",
    "        if i=='go':\n",
    "            df_temp=df.loc[(df['goNogo']== i)]\n",
    "            df_temp.KeyOn.to_csv(f'{resDir+uid}_KeyRT_{i}.txt',index=False,header=False)\n",
    "        \n",
    "    print(f'{uid} - Saved KeyResp values')\n",
    "        \n",
    "        "
   ]
  },
  {
   "cell_type": "code",
   "execution_count": null,
   "id": "d1e746fc",
   "metadata": {
    "scrolled": true
   },
   "outputs": [],
   "source": [
    "n=0\n",
    "for fname in flist:\n",
    "    regressors(fname)\n",
    "    n+=1\n",
    "print(f'Regressors saved for {n} participants')"
   ]
  }
 ],
 "metadata": {
  "kernelspec": {
   "display_name": "Python 3 (ipykernel)",
   "language": "python",
   "name": "python3"
  },
  "language_info": {
   "codemirror_mode": {
    "name": "ipython",
    "version": 3
   },
   "file_extension": ".py",
   "mimetype": "text/x-python",
   "name": "python",
   "nbconvert_exporter": "python",
   "pygments_lexer": "ipython3",
   "version": "3.9.12"
  }
 },
 "nbformat": 4,
 "nbformat_minor": 5
}
