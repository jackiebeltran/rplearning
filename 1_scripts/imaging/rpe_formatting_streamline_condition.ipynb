{
 "cells": [
  {
   "cell_type": "markdown",
   "id": "4511379b",
   "metadata": {},
   "source": [
    "This script extract timing information with RPE based on condition (reward/punishment). Neutral also get extracted but we don't need it and can use the feedback_neutral-nil.txt file "
   ]
  },
  {
   "cell_type": "code",
   "execution_count": 16,
   "id": "7219373a",
   "metadata": {},
   "outputs": [],
   "source": [
    "import pandas as pd\n",
    "import glob\n",
    "import os\n",
    "import csv"
   ]
  },
  {
   "cell_type": "code",
   "execution_count": 17,
   "id": "427937b9",
   "metadata": {
    "scrolled": true
   },
   "outputs": [
    {
     "data": {
      "text/plain": [
       "'/Users/jackiebeltran/Documents/GitHub/RP_Learning/1_scripts/imaging'"
      ]
     },
     "execution_count": 17,
     "metadata": {},
     "output_type": "execute_result"
    }
   ],
   "source": [
    "os.getcwd()"
   ]
  },
  {
   "cell_type": "code",
   "execution_count": 18,
   "id": "026c80d3",
   "metadata": {},
   "outputs": [],
   "source": [
    "reg_list=sorted(glob.glob(\"../../0_data/regressor/*feedback.txt\"))"
   ]
  },
  {
   "cell_type": "code",
   "execution_count": 19,
   "id": "a0f7819e",
   "metadata": {
    "scrolled": true
   },
   "outputs": [
    {
     "name": "stdout",
     "output_type": "stream",
     "text": [
      "There are 83 subjects with regressor data\n"
     ]
    }
   ],
   "source": [
    "print(\"There are \" +str(len(reg_list)) + \" subjects with regressor data\")"
   ]
  },
  {
   "cell_type": "markdown",
   "id": "a88985ee",
   "metadata": {},
   "source": [
    "### obtain timing information"
   ]
  },
  {
   "cell_type": "code",
   "execution_count": 20,
   "id": "eed13b51",
   "metadata": {},
   "outputs": [],
   "source": [
    "def read_csv_file(file_path):\n",
    "    \n",
    "    filename = os.path.splitext(os.path.basename(file_path))[0]\n",
    "    column_name = filename.split('_')[0]\n",
    "    \n",
    "    df = pd.read_csv(file_path, header=None)\n",
    "\n",
    "    # Rename the column header with subject ID\n",
    "    df = df.rename(columns={0: column_name})\n",
    "    \n",
    "    # create column with subject ID\n",
    "    df[\"sub_ID\"] = column_name\n",
    "    \n",
    "    # rename columns     \n",
    "    df = df.rename(columns={column_name: \"feedback\", 1: \"sub_ID\"})\n",
    "    \n",
    "    return df"
   ]
  },
  {
   "cell_type": "code",
   "execution_count": null,
   "id": "5a1fe9fc",
   "metadata": {},
   "outputs": [],
   "source": [
    "# test function\n",
    "for file in reg_list:\n",
    "    df = read_csv_file(file)\n",
    "    print(df)"
   ]
  },
  {
   "cell_type": "markdown",
   "id": "847b9e4b",
   "metadata": {},
   "source": [
    "### obtain RPEs"
   ]
  },
  {
   "cell_type": "code",
   "execution_count": 31,
   "id": "3f9dd7ac",
   "metadata": {},
   "outputs": [],
   "source": [
    "rpe_list = sorted(glob.glob(\"/Users/jackiebeltran/Documents/GitHub/RP_Learning/3_results/model_2/RPEs/*csv\"))"
   ]
  },
  {
   "cell_type": "code",
   "execution_count": 29,
   "id": "23a66518",
   "metadata": {
    "scrolled": true
   },
   "outputs": [
    {
     "data": {
      "text/plain": [
       "76"
      ]
     },
     "execution_count": 29,
     "metadata": {},
     "output_type": "execute_result"
    }
   ],
   "source": [
    "len(rpe_list)"
   ]
  },
  {
   "cell_type": "markdown",
   "id": "49d621af",
   "metadata": {},
   "source": [
    "##### load behavioral data to obtain the information on which conditions are which (healthy then mdd)"
   ]
  },
  {
   "cell_type": "code",
   "execution_count": 32,
   "id": "90e02d6d",
   "metadata": {
    "scrolled": true
   },
   "outputs": [
    {
     "data": {
      "text/plain": [
       "['/Users/jackiebeltran/Documents/GitHub/RP_Learning/0_data/mdd/401.csv',\n",
       " '/Users/jackiebeltran/Documents/GitHub/RP_Learning/0_data/mdd/402.csv',\n",
       " '/Users/jackiebeltran/Documents/GitHub/RP_Learning/0_data/mdd/408.csv',\n",
       " '/Users/jackiebeltran/Documents/GitHub/RP_Learning/0_data/mdd/409.csv',\n",
       " '/Users/jackiebeltran/Documents/GitHub/RP_Learning/0_data/mdd/410.csv',\n",
       " '/Users/jackiebeltran/Documents/GitHub/RP_Learning/0_data/mdd/413.csv',\n",
       " '/Users/jackiebeltran/Documents/GitHub/RP_Learning/0_data/mdd/415.csv',\n",
       " '/Users/jackiebeltran/Documents/GitHub/RP_Learning/0_data/mdd/416.csv',\n",
       " '/Users/jackiebeltran/Documents/GitHub/RP_Learning/0_data/mdd/417.csv',\n",
       " '/Users/jackiebeltran/Documents/GitHub/RP_Learning/0_data/mdd/418.csv',\n",
       " '/Users/jackiebeltran/Documents/GitHub/RP_Learning/0_data/mdd/419.csv',\n",
       " '/Users/jackiebeltran/Documents/GitHub/RP_Learning/0_data/mdd/420.csv',\n",
       " '/Users/jackiebeltran/Documents/GitHub/RP_Learning/0_data/mdd/421.csv',\n",
       " '/Users/jackiebeltran/Documents/GitHub/RP_Learning/0_data/mdd/422.csv',\n",
       " '/Users/jackiebeltran/Documents/GitHub/RP_Learning/0_data/mdd/423.csv',\n",
       " '/Users/jackiebeltran/Documents/GitHub/RP_Learning/0_data/mdd/424.csv',\n",
       " '/Users/jackiebeltran/Documents/GitHub/RP_Learning/0_data/mdd/425.csv',\n",
       " '/Users/jackiebeltran/Documents/GitHub/RP_Learning/0_data/mdd/427.csv',\n",
       " '/Users/jackiebeltran/Documents/GitHub/RP_Learning/0_data/mdd/428.csv',\n",
       " '/Users/jackiebeltran/Documents/GitHub/RP_Learning/0_data/mdd/430.csv',\n",
       " '/Users/jackiebeltran/Documents/GitHub/RP_Learning/0_data/mdd/431.csv',\n",
       " '/Users/jackiebeltran/Documents/GitHub/RP_Learning/0_data/mdd/432.csv',\n",
       " '/Users/jackiebeltran/Documents/GitHub/RP_Learning/0_data/mdd/434.csv',\n",
       " '/Users/jackiebeltran/Documents/GitHub/RP_Learning/0_data/mdd/435.csv',\n",
       " '/Users/jackiebeltran/Documents/GitHub/RP_Learning/0_data/mdd/436.csv',\n",
       " '/Users/jackiebeltran/Documents/GitHub/RP_Learning/0_data/mdd/438.csv',\n",
       " '/Users/jackiebeltran/Documents/GitHub/RP_Learning/0_data/mdd/440.csv',\n",
       " '/Users/jackiebeltran/Documents/GitHub/RP_Learning/0_data/mdd/442.csv',\n",
       " '/Users/jackiebeltran/Documents/GitHub/RP_Learning/0_data/mdd/443.csv',\n",
       " '/Users/jackiebeltran/Documents/GitHub/RP_Learning/0_data/mdd/444.csv',\n",
       " '/Users/jackiebeltran/Documents/GitHub/RP_Learning/0_data/mdd/445.csv',\n",
       " '/Users/jackiebeltran/Documents/GitHub/RP_Learning/0_data/mdd/446.csv',\n",
       " '/Users/jackiebeltran/Documents/GitHub/RP_Learning/0_data/mdd/447.csv',\n",
       " '/Users/jackiebeltran/Documents/GitHub/RP_Learning/0_data/mdd/450.csv',\n",
       " '/Users/jackiebeltran/Documents/GitHub/RP_Learning/0_data/mdd/451.csv',\n",
       " '/Users/jackiebeltran/Documents/GitHub/RP_Learning/0_data/mdd/453.csv',\n",
       " '/Users/jackiebeltran/Documents/GitHub/RP_Learning/0_data/mdd/454.csv',\n",
       " '/Users/jackiebeltran/Documents/GitHub/RP_Learning/0_data/mdd/455.csv']"
      ]
     },
     "execution_count": 32,
     "metadata": {},
     "output_type": "execute_result"
    }
   ],
   "source": [
    "# clist = sorted(glob.glob('/Users/jackiebeltran/Documents/GitHub/RP_Learning/0_data/healthy/*csv'))\n",
    "# clist\n",
    "\n",
    "clist = sorted(glob.glob('/Users/jackiebeltran/Documents/GitHub/RP_Learning/0_data/mdd/*csv'))\n",
    "clist"
   ]
  },
  {
   "cell_type": "code",
   "execution_count": null,
   "id": "00efd83c",
   "metadata": {},
   "outputs": [],
   "source": []
  },
  {
   "cell_type": "code",
   "execution_count": 26,
   "id": "3df8640a",
   "metadata": {},
   "outputs": [
    {
     "data": {
      "text/plain": [
       "'/Users/jackiebeltran/Documents/GitHub/RP_Learning/1_scripts/imaging'"
      ]
     },
     "execution_count": 26,
     "metadata": {},
     "output_type": "execute_result"
    }
   ],
   "source": [
    "os.getcwd()"
   ]
  },
  {
   "cell_type": "code",
   "execution_count": 33,
   "id": "65541a0c",
   "metadata": {},
   "outputs": [],
   "source": [
    "resDir='../../3_results/model_2/cond_rpe/'"
   ]
  },
  {
   "cell_type": "code",
   "execution_count": 34,
   "id": "5a9d7296",
   "metadata": {
    "scrolled": true
   },
   "outputs": [
    {
     "name": "stdout",
     "output_type": "stream",
     "text": [
      "length of dataframe is 30\n",
      "condition_rpe for 401 stored at ../../3_results/model_2/cond_rpe/\n",
      "length of dataframe is 30\n",
      "condition_rpe for 401 stored at ../../3_results/model_2/cond_rpe/\n",
      "length of dataframe is 30\n",
      "condition_rpe for 401 stored at ../../3_results/model_2/cond_rpe/\n",
      "length of dataframe is 30\n",
      "condition_rpe for 402 stored at ../../3_results/model_2/cond_rpe/\n",
      "length of dataframe is 30\n",
      "condition_rpe for 402 stored at ../../3_results/model_2/cond_rpe/\n",
      "length of dataframe is 30\n",
      "condition_rpe for 402 stored at ../../3_results/model_2/cond_rpe/\n",
      "length of dataframe is 30\n",
      "condition_rpe for 408 stored at ../../3_results/model_2/cond_rpe/\n",
      "length of dataframe is 30\n",
      "condition_rpe for 408 stored at ../../3_results/model_2/cond_rpe/\n",
      "length of dataframe is 30\n",
      "condition_rpe for 408 stored at ../../3_results/model_2/cond_rpe/\n",
      "length of dataframe is 30\n",
      "condition_rpe for 409 stored at ../../3_results/model_2/cond_rpe/\n",
      "length of dataframe is 30\n",
      "condition_rpe for 409 stored at ../../3_results/model_2/cond_rpe/\n",
      "length of dataframe is 30\n",
      "condition_rpe for 409 stored at ../../3_results/model_2/cond_rpe/\n",
      "length of dataframe is 30\n",
      "condition_rpe for 410 stored at ../../3_results/model_2/cond_rpe/\n",
      "length of dataframe is 30\n",
      "condition_rpe for 410 stored at ../../3_results/model_2/cond_rpe/\n",
      "length of dataframe is 30\n",
      "condition_rpe for 410 stored at ../../3_results/model_2/cond_rpe/\n",
      "length of dataframe is 30\n",
      "condition_rpe for 413 stored at ../../3_results/model_2/cond_rpe/\n",
      "length of dataframe is 30\n",
      "condition_rpe for 413 stored at ../../3_results/model_2/cond_rpe/\n",
      "length of dataframe is 30\n",
      "condition_rpe for 413 stored at ../../3_results/model_2/cond_rpe/\n",
      "length of dataframe is 30\n",
      "condition_rpe for 415 stored at ../../3_results/model_2/cond_rpe/\n",
      "length of dataframe is 30\n",
      "condition_rpe for 415 stored at ../../3_results/model_2/cond_rpe/\n",
      "length of dataframe is 30\n",
      "condition_rpe for 415 stored at ../../3_results/model_2/cond_rpe/\n",
      "length of dataframe is 30\n",
      "condition_rpe for 416 stored at ../../3_results/model_2/cond_rpe/\n",
      "length of dataframe is 30\n",
      "condition_rpe for 416 stored at ../../3_results/model_2/cond_rpe/\n",
      "length of dataframe is 30\n",
      "condition_rpe for 416 stored at ../../3_results/model_2/cond_rpe/\n",
      "length of dataframe is 30\n",
      "condition_rpe for 417 stored at ../../3_results/model_2/cond_rpe/\n",
      "length of dataframe is 30\n",
      "condition_rpe for 417 stored at ../../3_results/model_2/cond_rpe/\n",
      "length of dataframe is 30\n",
      "condition_rpe for 417 stored at ../../3_results/model_2/cond_rpe/\n",
      "length of dataframe is 30\n",
      "condition_rpe for 418 stored at ../../3_results/model_2/cond_rpe/\n",
      "length of dataframe is 30\n",
      "condition_rpe for 418 stored at ../../3_results/model_2/cond_rpe/\n",
      "length of dataframe is 30\n",
      "condition_rpe for 418 stored at ../../3_results/model_2/cond_rpe/\n",
      "length of dataframe is 30\n",
      "condition_rpe for 419 stored at ../../3_results/model_2/cond_rpe/\n",
      "length of dataframe is 30\n",
      "condition_rpe for 419 stored at ../../3_results/model_2/cond_rpe/\n",
      "length of dataframe is 30\n",
      "condition_rpe for 419 stored at ../../3_results/model_2/cond_rpe/\n",
      "length of dataframe is 30\n",
      "condition_rpe for 420 stored at ../../3_results/model_2/cond_rpe/\n",
      "length of dataframe is 30\n",
      "condition_rpe for 420 stored at ../../3_results/model_2/cond_rpe/\n",
      "length of dataframe is 30\n",
      "condition_rpe for 420 stored at ../../3_results/model_2/cond_rpe/\n",
      "length of dataframe is 30\n",
      "condition_rpe for 421 stored at ../../3_results/model_2/cond_rpe/\n",
      "length of dataframe is 30\n",
      "condition_rpe for 421 stored at ../../3_results/model_2/cond_rpe/\n",
      "length of dataframe is 30\n",
      "condition_rpe for 421 stored at ../../3_results/model_2/cond_rpe/\n",
      "length of dataframe is 30\n",
      "condition_rpe for 422 stored at ../../3_results/model_2/cond_rpe/\n",
      "length of dataframe is 30\n",
      "condition_rpe for 422 stored at ../../3_results/model_2/cond_rpe/\n",
      "length of dataframe is 30\n",
      "condition_rpe for 422 stored at ../../3_results/model_2/cond_rpe/\n",
      "length of dataframe is 30\n",
      "condition_rpe for 423 stored at ../../3_results/model_2/cond_rpe/\n",
      "length of dataframe is 30\n",
      "condition_rpe for 423 stored at ../../3_results/model_2/cond_rpe/\n",
      "length of dataframe is 30\n",
      "condition_rpe for 423 stored at ../../3_results/model_2/cond_rpe/\n",
      "length of dataframe is 30\n",
      "condition_rpe for 424 stored at ../../3_results/model_2/cond_rpe/\n",
      "length of dataframe is 30\n",
      "condition_rpe for 424 stored at ../../3_results/model_2/cond_rpe/\n",
      "length of dataframe is 30\n",
      "condition_rpe for 424 stored at ../../3_results/model_2/cond_rpe/\n",
      "length of dataframe is 30\n",
      "condition_rpe for 425 stored at ../../3_results/model_2/cond_rpe/\n",
      "length of dataframe is 30\n",
      "condition_rpe for 425 stored at ../../3_results/model_2/cond_rpe/\n",
      "length of dataframe is 30\n",
      "condition_rpe for 425 stored at ../../3_results/model_2/cond_rpe/\n",
      "length of dataframe is 30\n",
      "condition_rpe for 427 stored at ../../3_results/model_2/cond_rpe/\n",
      "length of dataframe is 30\n",
      "condition_rpe for 427 stored at ../../3_results/model_2/cond_rpe/\n",
      "length of dataframe is 30\n",
      "condition_rpe for 427 stored at ../../3_results/model_2/cond_rpe/\n",
      "length of dataframe is 30\n",
      "condition_rpe for 428 stored at ../../3_results/model_2/cond_rpe/\n",
      "length of dataframe is 30\n",
      "condition_rpe for 428 stored at ../../3_results/model_2/cond_rpe/\n",
      "length of dataframe is 30\n",
      "condition_rpe for 428 stored at ../../3_results/model_2/cond_rpe/\n",
      "length of dataframe is 30\n",
      "condition_rpe for 430 stored at ../../3_results/model_2/cond_rpe/\n",
      "length of dataframe is 30\n",
      "condition_rpe for 430 stored at ../../3_results/model_2/cond_rpe/\n",
      "length of dataframe is 30\n",
      "condition_rpe for 430 stored at ../../3_results/model_2/cond_rpe/\n",
      "length of dataframe is 30\n",
      "condition_rpe for 431 stored at ../../3_results/model_2/cond_rpe/\n",
      "length of dataframe is 30\n",
      "condition_rpe for 431 stored at ../../3_results/model_2/cond_rpe/\n",
      "length of dataframe is 30\n",
      "condition_rpe for 431 stored at ../../3_results/model_2/cond_rpe/\n",
      "length of dataframe is 30\n",
      "condition_rpe for 432 stored at ../../3_results/model_2/cond_rpe/\n",
      "length of dataframe is 30\n",
      "condition_rpe for 432 stored at ../../3_results/model_2/cond_rpe/\n",
      "length of dataframe is 30\n",
      "condition_rpe for 432 stored at ../../3_results/model_2/cond_rpe/\n",
      "length of dataframe is 30\n",
      "condition_rpe for 434 stored at ../../3_results/model_2/cond_rpe/\n",
      "length of dataframe is 30\n",
      "condition_rpe for 434 stored at ../../3_results/model_2/cond_rpe/\n",
      "length of dataframe is 30\n",
      "condition_rpe for 434 stored at ../../3_results/model_2/cond_rpe/\n",
      "length of dataframe is 30\n",
      "condition_rpe for 435 stored at ../../3_results/model_2/cond_rpe/\n",
      "length of dataframe is 30\n",
      "condition_rpe for 435 stored at ../../3_results/model_2/cond_rpe/\n",
      "length of dataframe is 30\n",
      "condition_rpe for 435 stored at ../../3_results/model_2/cond_rpe/\n",
      "length of dataframe is 30\n",
      "condition_rpe for 436 stored at ../../3_results/model_2/cond_rpe/\n",
      "length of dataframe is 30\n",
      "condition_rpe for 436 stored at ../../3_results/model_2/cond_rpe/\n",
      "length of dataframe is 30\n",
      "condition_rpe for 436 stored at ../../3_results/model_2/cond_rpe/\n",
      "length of dataframe is 30\n",
      "condition_rpe for 438 stored at ../../3_results/model_2/cond_rpe/\n",
      "length of dataframe is 30\n",
      "condition_rpe for 438 stored at ../../3_results/model_2/cond_rpe/\n",
      "length of dataframe is 30\n",
      "condition_rpe for 438 stored at ../../3_results/model_2/cond_rpe/\n",
      "length of dataframe is 30\n",
      "condition_rpe for 440 stored at ../../3_results/model_2/cond_rpe/\n",
      "length of dataframe is 30\n",
      "condition_rpe for 440 stored at ../../3_results/model_2/cond_rpe/\n",
      "length of dataframe is 30\n",
      "condition_rpe for 440 stored at ../../3_results/model_2/cond_rpe/\n",
      "length of dataframe is 30\n",
      "condition_rpe for 442 stored at ../../3_results/model_2/cond_rpe/\n",
      "length of dataframe is 30\n",
      "condition_rpe for 442 stored at ../../3_results/model_2/cond_rpe/\n",
      "length of dataframe is 30\n",
      "condition_rpe for 442 stored at ../../3_results/model_2/cond_rpe/\n",
      "length of dataframe is 30\n",
      "condition_rpe for 443 stored at ../../3_results/model_2/cond_rpe/\n",
      "length of dataframe is 30\n",
      "condition_rpe for 443 stored at ../../3_results/model_2/cond_rpe/\n",
      "length of dataframe is 30\n",
      "condition_rpe for 443 stored at ../../3_results/model_2/cond_rpe/\n",
      "length of dataframe is 30\n",
      "condition_rpe for 444 stored at ../../3_results/model_2/cond_rpe/\n",
      "length of dataframe is 30\n",
      "condition_rpe for 444 stored at ../../3_results/model_2/cond_rpe/\n",
      "length of dataframe is 30\n",
      "condition_rpe for 444 stored at ../../3_results/model_2/cond_rpe/\n",
      "length of dataframe is 30\n",
      "condition_rpe for 445 stored at ../../3_results/model_2/cond_rpe/\n",
      "length of dataframe is 30\n",
      "condition_rpe for 445 stored at ../../3_results/model_2/cond_rpe/\n",
      "length of dataframe is 30\n",
      "condition_rpe for 445 stored at ../../3_results/model_2/cond_rpe/\n",
      "length of dataframe is 30\n",
      "condition_rpe for 446 stored at ../../3_results/model_2/cond_rpe/\n",
      "length of dataframe is 30\n",
      "condition_rpe for 446 stored at ../../3_results/model_2/cond_rpe/\n",
      "length of dataframe is 30\n",
      "condition_rpe for 446 stored at ../../3_results/model_2/cond_rpe/\n",
      "length of dataframe is 30\n",
      "condition_rpe for 447 stored at ../../3_results/model_2/cond_rpe/\n",
      "length of dataframe is 30\n",
      "condition_rpe for 447 stored at ../../3_results/model_2/cond_rpe/\n",
      "length of dataframe is 30\n",
      "condition_rpe for 447 stored at ../../3_results/model_2/cond_rpe/\n",
      "length of dataframe is 30\n",
      "condition_rpe for 450 stored at ../../3_results/model_2/cond_rpe/\n",
      "length of dataframe is 30\n",
      "condition_rpe for 450 stored at ../../3_results/model_2/cond_rpe/\n",
      "length of dataframe is 30\n",
      "condition_rpe for 450 stored at ../../3_results/model_2/cond_rpe/\n",
      "length of dataframe is 30\n",
      "condition_rpe for 451 stored at ../../3_results/model_2/cond_rpe/\n",
      "length of dataframe is 30\n",
      "condition_rpe for 451 stored at ../../3_results/model_2/cond_rpe/\n",
      "length of dataframe is 30\n",
      "condition_rpe for 451 stored at ../../3_results/model_2/cond_rpe/\n",
      "length of dataframe is 30\n",
      "condition_rpe for 453 stored at ../../3_results/model_2/cond_rpe/\n",
      "length of dataframe is 30\n",
      "condition_rpe for 453 stored at ../../3_results/model_2/cond_rpe/\n",
      "length of dataframe is 30\n",
      "condition_rpe for 453 stored at ../../3_results/model_2/cond_rpe/\n",
      "length of dataframe is 30\n",
      "condition_rpe for 454 stored at ../../3_results/model_2/cond_rpe/\n",
      "length of dataframe is 30\n",
      "condition_rpe for 454 stored at ../../3_results/model_2/cond_rpe/\n",
      "length of dataframe is 30\n",
      "condition_rpe for 454 stored at ../../3_results/model_2/cond_rpe/\n",
      "length of dataframe is 30\n",
      "condition_rpe for 455 stored at ../../3_results/model_2/cond_rpe/\n",
      "length of dataframe is 30\n",
      "condition_rpe for 455 stored at ../../3_results/model_2/cond_rpe/\n",
      "length of dataframe is 30\n",
      "condition_rpe for 455 stored at ../../3_results/model_2/cond_rpe/\n"
     ]
    }
   ],
   "source": [
    "for fb_file in reg_list: # for each feedback timing file\n",
    "    \n",
    "    # extract subject ID\n",
    "    sub_ID = os.path.splitext(os.path.basename(fb_file))[0].split('_')[0]\n",
    "    \n",
    "    # outpath to save final txt file\n",
    "    #fpath = f'/Users/jackiebeltran/Documents/GitHub/RP_Learning/3_results/model_2/feedback_rpe/{sub_ID}_feedback_rpe.txt'\n",
    "    \n",
    "    # find matching RPE file from rlist \n",
    "    match_rpe = None \n",
    "    \n",
    "    for rpe_file in rpe_list:\n",
    "        rpe_sub_ID = os.path.splitext(os.path.basename(rpe_file))[0].split('_')[0]\n",
    "        \n",
    "        # if i have both the feedback file and rpe file for a subject, make that the matched file\n",
    "        if sub_ID == rpe_sub_ID: \n",
    "            match_rpe = rpe_file \n",
    "            break \n",
    "            \n",
    "    if match_rpe:     \n",
    "        # load both files \n",
    "        fb_df = read_csv_file(fb_file)\n",
    "#         print(fb_df.dtypes)\n",
    "        rpe_df = pd.read_csv(match_rpe)\n",
    "        rpe_df = rpe_df[[\"sub_ID\", \"RPE\"]] # keep columns of interest\n",
    "               \n",
    "        df = pd.concat([rpe_df, fb_df], axis=1)\n",
    "        df = df.loc[:, ~df.columns.duplicated()]                    \n",
    "        \n",
    "        # add duration column\n",
    "        df[\"duration\"] = 4\n",
    "        \n",
    "        df[\"format\"] = df['feedback'].astype(str) + \"*\" + df['RPE'].astype(str) + \":\" + df['duration'].astype(str)\n",
    "\n",
    "#         out_fb = df['format'].tolist()\n",
    "\n",
    "## here we now want to find the sub_id trial type information output from my behav_data_recoding script        \n",
    "\n",
    "        df = df[[\"sub_ID\", \"format\"]]\n",
    "    \n",
    "        match_cond = None \n",
    "        \n",
    "        for cond_file in clist:\n",
    "            cond_sub_ID = os.path.splitext(os.path.basename(cond_file))[0]\n",
    "            \n",
    "            if sub_ID == cond_sub_ID:\n",
    "                match_cond = cond_file\n",
    "                break\n",
    "                \n",
    "        if match_cond:\n",
    "            format_df = df\n",
    "            cond_df = pd.read_csv(match_cond)\n",
    "            \n",
    "            cond_df = cond_df[[\"sub_ID\", \"condition\"]]\n",
    "            \n",
    "            final_df = pd.concat([cond_df, format_df], axis=1)\n",
    "            final_df = final_df.loc[:, ~final_df.columns.duplicated()]\n",
    "            \n",
    "            # save df with condition & timing\n",
    "            cond_rpe = pd.DataFrame(final_df)\n",
    "            cond_rpe.to_csv(f'{resDir}{sub_ID}_condition_rpe.csv',index=False,header=False)  \n",
    "            \n",
    "            # creating a list of the different conditions to subset by trial type; 1 = reward, 2=punishment, 3= neutral\n",
    "            cond=list(final_df.condition.unique()) \n",
    "            \n",
    "            for t in cond:\n",
    "                df_temp=final_df.loc[(final_df['condition']== t)] \n",
    "#                 print(df_temp)\n",
    "                print(\"length of dataframe is \" + str(len(df_temp))) # each dataframe should have 30 trials\n",
    "                \n",
    "                df_temp = df_temp[[\"format\"]]\n",
    "                \n",
    "                df_temp.to_csv(f'{resDir}{sub_ID}_{t}_rpe.txt',index=False,header=False)\n",
    "                print(f'condition_rpe for {sub_ID} stored at {resDir}')"
   ]
  },
  {
   "cell_type": "code",
   "execution_count": null,
   "id": "e884b818",
   "metadata": {},
   "outputs": [],
   "source": []
  }
 ],
 "metadata": {
  "kernelspec": {
   "display_name": "Python 3 (ipykernel)",
   "language": "python",
   "name": "python3"
  },
  "language_info": {
   "codemirror_mode": {
    "name": "ipython",
    "version": 3
   },
   "file_extension": ".py",
   "mimetype": "text/x-python",
   "name": "python",
   "nbconvert_exporter": "python",
   "pygments_lexer": "ipython3",
   "version": "3.9.12"
  }
 },
 "nbformat": 4,
 "nbformat_minor": 5
}
