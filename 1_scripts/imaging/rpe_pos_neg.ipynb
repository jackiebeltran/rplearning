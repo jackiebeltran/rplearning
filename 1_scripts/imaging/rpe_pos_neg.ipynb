{
 "cells": [
  {
   "cell_type": "code",
   "execution_count": 1,
   "metadata": {},
   "outputs": [],
   "source": [
    "import pandas as pd\n",
    "import glob\n",
    "import os\n",
    "import csv"
   ]
  },
  {
   "cell_type": "code",
   "execution_count": 2,
   "metadata": {},
   "outputs": [
    {
     "data": {
      "text/plain": [
       "'/Users/jackiebeltran/Documents/GitHub/RP_Learning/1_scripts/imaging'"
      ]
     },
     "execution_count": 2,
     "metadata": {},
     "output_type": "execute_result"
    }
   ],
   "source": [
    "os.getcwd()"
   ]
  },
  {
   "cell_type": "code",
   "execution_count": 3,
   "metadata": {},
   "outputs": [],
   "source": [
    "reg_list=sorted(glob.glob(\"../../0_data/regressor/*feedback.txt\"))"
   ]
  },
  {
   "cell_type": "code",
   "execution_count": 4,
   "metadata": {},
   "outputs": [
    {
     "name": "stdout",
     "output_type": "stream",
     "text": [
      "There are 83 subjects with regressor data\n"
     ]
    }
   ],
   "source": [
    "print(\"There are \" +str(len(reg_list)) + \" subjects with regressor data\")"
   ]
  },
  {
   "cell_type": "code",
   "execution_count": 5,
   "metadata": {},
   "outputs": [],
   "source": [
    "## load the data with RPEs and condition information \n",
    "rlist = sorted(glob.glob('/Users/jackiebeltran/Documents/GitHub/RP_Learning/3_results/model_2/rpe_csv/*csv'))"
   ]
  },
  {
   "cell_type": "code",
   "execution_count": 6,
   "metadata": {},
   "outputs": [
    {
     "data": {
      "text/plain": [
       "77"
      ]
     },
     "execution_count": 6,
     "metadata": {},
     "output_type": "execute_result"
    }
   ],
   "source": [
    "len(rlist)"
   ]
  },
  {
   "cell_type": "code",
   "execution_count": 17,
   "metadata": {},
   "outputs": [
    {
     "name": "stdout",
     "output_type": "stream",
     "text": [
      "reviewing data for subject: 401\n",
      "This subject has 41 trials with RPEs\n",
      "This subject has 17 trials with PPEs\n",
      "reviewing data for subject: 402\n",
      "This subject has 36 trials with RPEs\n",
      "This subject has 18 trials with PPEs\n",
      "reviewing data for subject: 408\n",
      "This subject has 31 trials with RPEs\n",
      "This subject has 28 trials with PPEs\n",
      "reviewing data for subject: 409\n",
      "This subject has 36 trials with RPEs\n",
      "This subject has 20 trials with PPEs\n",
      "reviewing data for subject: 410\n",
      "This subject has 38 trials with RPEs\n",
      "This subject has 19 trials with PPEs\n",
      "reviewing data for subject: 413\n",
      "This subject has 39 trials with RPEs\n",
      "This subject has 15 trials with PPEs\n",
      "reviewing data for subject: 415\n",
      "This subject has 40 trials with RPEs\n",
      "This subject has 15 trials with PPEs\n",
      "reviewing data for subject: 416\n",
      "This subject has 36 trials with RPEs\n",
      "This subject has 12 trials with PPEs\n",
      "reviewing data for subject: 417\n",
      "This subject has 28 trials with RPEs\n",
      "This subject has 30 trials with PPEs\n",
      "reviewing data for subject: 418\n",
      "This subject has 44 trials with RPEs\n",
      "This subject has 14 trials with PPEs\n",
      "reviewing data for subject: 419\n",
      "This subject has 32 trials with RPEs\n",
      "This subject has 25 trials with PPEs\n",
      "reviewing data for subject: 420\n",
      "This subject has 32 trials with RPEs\n",
      "This subject has 27 trials with PPEs\n",
      "reviewing data for subject: 421\n",
      "This subject has 36 trials with RPEs\n",
      "This subject has 19 trials with PPEs\n",
      "reviewing data for subject: 422\n",
      "This subject has 37 trials with RPEs\n",
      "This subject has 16 trials with PPEs\n",
      "reviewing data for subject: 423\n",
      "This subject has 36 trials with RPEs\n",
      "This subject has 22 trials with PPEs\n",
      "reviewing data for subject: 424\n",
      "This subject has 30 trials with RPEs\n",
      "This subject has 18 trials with PPEs\n",
      "reviewing data for subject: 425\n",
      "This subject has 27 trials with RPEs\n",
      "This subject has 31 trials with PPEs\n",
      "reviewing data for subject: 427\n",
      "This subject has 16 trials with RPEs\n",
      "This subject has 24 trials with PPEs\n",
      "reviewing data for subject: 428\n",
      "This subject has 16 trials with RPEs\n",
      "This subject has 19 trials with PPEs\n",
      "reviewing data for subject: 430\n",
      "This subject has 39 trials with RPEs\n",
      "This subject has 16 trials with PPEs\n",
      "reviewing data for subject: 431\n",
      "This subject has 33 trials with RPEs\n",
      "This subject has 22 trials with PPEs\n",
      "reviewing data for subject: 432\n",
      "This subject has 32 trials with RPEs\n",
      "This subject has 26 trials with PPEs\n",
      "reviewing data for subject: 434\n",
      "This subject has 28 trials with RPEs\n",
      "This subject has 23 trials with PPEs\n",
      "reviewing data for subject: 435\n",
      "This subject has 24 trials with RPEs\n",
      "This subject has 32 trials with PPEs\n",
      "reviewing data for subject: 436\n",
      "This subject has 28 trials with RPEs\n",
      "This subject has 27 trials with PPEs\n",
      "reviewing data for subject: 438\n",
      "This subject has 28 trials with RPEs\n",
      "This subject has 26 trials with PPEs\n",
      "reviewing data for subject: 440\n",
      "This subject has 34 trials with RPEs\n",
      "This subject has 19 trials with PPEs\n",
      "reviewing data for subject: 442\n",
      "This subject has 33 trials with RPEs\n",
      "This subject has 22 trials with PPEs\n",
      "reviewing data for subject: 443\n",
      "This subject has 29 trials with RPEs\n",
      "This subject has 18 trials with PPEs\n",
      "reviewing data for subject: 444\n",
      "This subject has 40 trials with RPEs\n",
      "This subject has 15 trials with PPEs\n",
      "reviewing data for subject: 445\n",
      "This subject has 44 trials with RPEs\n",
      "This subject has 15 trials with PPEs\n",
      "reviewing data for subject: 446\n",
      "This subject has 40 trials with RPEs\n",
      "This subject has 18 trials with PPEs\n",
      "reviewing data for subject: 447\n",
      "This subject has 23 trials with RPEs\n",
      "This subject has 28 trials with PPEs\n",
      "reviewing data for subject: 450\n",
      "This subject has 37 trials with RPEs\n",
      "This subject has 22 trials with PPEs\n",
      "reviewing data for subject: 451\n",
      "This subject has 40 trials with RPEs\n",
      "This subject has 19 trials with PPEs\n",
      "reviewing data for subject: 453\n",
      "This subject has 43 trials with RPEs\n",
      "This subject has 15 trials with PPEs\n",
      "reviewing data for subject: 454\n",
      "This subject has 38 trials with RPEs\n",
      "This subject has 14 trials with PPEs\n",
      "reviewing data for subject: 455\n",
      "This subject has 42 trials with RPEs\n",
      "This subject has 17 trials with PPEs\n",
      "reviewing data for subject: 501\n",
      "This subject has 33 trials with RPEs\n",
      "This subject has 18 trials with PPEs\n",
      "reviewing data for subject: 502\n",
      "This subject has 21 trials with RPEs\n",
      "This subject has 15 trials with PPEs\n",
      "reviewing data for subject: 503\n",
      "This subject has 37 trials with RPEs\n",
      "This subject has 17 trials with PPEs\n",
      "reviewing data for subject: 504\n",
      "This subject has 25 trials with RPEs\n",
      "This subject has 10 trials with PPEs\n",
      "reviewing data for subject: 506\n",
      "This subject has 36 trials with RPEs\n",
      "This subject has 15 trials with PPEs\n",
      "reviewing data for subject: 507\n",
      "This subject has 36 trials with RPEs\n",
      "This subject has 21 trials with PPEs\n",
      "reviewing data for subject: 512\n",
      "This subject has 29 trials with RPEs\n",
      "This subject has 19 trials with PPEs\n",
      "reviewing data for subject: 514\n",
      "This subject has 29 trials with RPEs\n",
      "This subject has 20 trials with PPEs\n",
      "reviewing data for subject: 515\n",
      "This subject has 43 trials with RPEs\n",
      "This subject has 16 trials with PPEs\n",
      "reviewing data for subject: 516\n",
      "This subject has 30 trials with RPEs\n",
      "This subject has 16 trials with PPEs\n",
      "reviewing data for subject: 517\n",
      "This subject has 21 trials with RPEs\n",
      "This subject has 14 trials with PPEs\n",
      "reviewing data for subject: 519\n",
      "This subject has 41 trials with RPEs\n",
      "This subject has 11 trials with PPEs\n",
      "reviewing data for subject: 520\n",
      "This subject has 34 trials with RPEs\n",
      "This subject has 26 trials with PPEs\n",
      "reviewing data for subject: 521\n",
      "This subject has 32 trials with RPEs\n",
      "This subject has 21 trials with PPEs\n",
      "reviewing data for subject: 522\n",
      "This subject has 37 trials with RPEs\n",
      "This subject has 17 trials with PPEs\n",
      "reviewing data for subject: 523\n",
      "This subject has 32 trials with RPEs\n",
      "This subject has 21 trials with PPEs\n",
      "reviewing data for subject: 524\n",
      "This subject has 25 trials with RPEs\n",
      "This subject has 15 trials with PPEs\n",
      "reviewing data for subject: 525\n",
      "This subject has 40 trials with RPEs\n",
      "This subject has 14 trials with PPEs\n",
      "reviewing data for subject: 526\n",
      "This subject has 46 trials with RPEs\n",
      "This subject has 12 trials with PPEs\n",
      "reviewing data for subject: 527\n",
      "This subject has 21 trials with RPEs\n",
      "This subject has 22 trials with PPEs\n",
      "reviewing data for subject: 529\n",
      "This subject has 28 trials with RPEs\n",
      "This subject has 22 trials with PPEs\n",
      "reviewing data for subject: 530\n",
      "This subject has 41 trials with RPEs\n",
      "This subject has 17 trials with PPEs\n",
      "reviewing data for subject: 531\n",
      "This subject has 36 trials with RPEs\n",
      "This subject has 20 trials with PPEs\n",
      "reviewing data for subject: 532\n",
      "This subject has 36 trials with RPEs\n",
      "This subject has 20 trials with PPEs\n",
      "reviewing data for subject: 533\n",
      "This subject has 40 trials with RPEs\n",
      "This subject has 17 trials with PPEs\n",
      "reviewing data for subject: 535\n",
      "This subject has 23 trials with RPEs\n",
      "This subject has 12 trials with PPEs\n",
      "reviewing data for subject: 536\n",
      "This subject has 35 trials with RPEs\n",
      "This subject has 22 trials with PPEs\n",
      "reviewing data for subject: 537\n",
      "This subject has 37 trials with RPEs\n",
      "This subject has 17 trials with PPEs\n",
      "reviewing data for subject: 538\n",
      "This subject has 35 trials with RPEs\n",
      "This subject has 15 trials with PPEs\n",
      "reviewing data for subject: 540\n",
      "This subject has 33 trials with RPEs\n",
      "This subject has 22 trials with PPEs\n",
      "reviewing data for subject: 542\n",
      "This subject has 32 trials with RPEs\n",
      "This subject has 25 trials with PPEs\n",
      "reviewing data for subject: 543\n",
      "This subject has 19 trials with RPEs\n",
      "This subject has 20 trials with PPEs\n",
      "reviewing data for subject: 544\n",
      "This subject has 13 trials with RPEs\n",
      "This subject has 21 trials with PPEs\n",
      "reviewing data for subject: 545\n",
      "This subject has 39 trials with RPEs\n",
      "This subject has 18 trials with PPEs\n",
      "reviewing data for subject: 546\n",
      "This subject has 25 trials with RPEs\n",
      "This subject has 13 trials with PPEs\n",
      "reviewing data for subject: 547\n",
      "This subject has 44 trials with RPEs\n",
      "This subject has 12 trials with PPEs\n",
      "reviewing data for subject: 548\n",
      "This subject has 30 trials with RPEs\n",
      "This subject has 22 trials with PPEs\n",
      "reviewing data for subject: 549\n",
      "This subject has 38 trials with RPEs\n",
      "This subject has 14 trials with PPEs\n",
      "reviewing data for subject: N76\n",
      "This subject has 2518 trials with RPEs\n",
      "This subject has 1452 trials with PPEs\n"
     ]
    }
   ],
   "source": [
    "for rpe_file in rlist: # for each feedback rpe file\n",
    "\n",
    "    # print the subject id\n",
    "    sub_ID = os.path.splitext(os.path.basename(rpe_file))[0].split('_')[0]\n",
    "    print(\"reviewing data for subject: \" + str(sub_ID))\n",
    "    \n",
    "    # load the data\n",
    "    rpe_data = pd.read_csv(rpe_file)\n",
    "\n",
    "    # check and subset for RPEs and PPEs\n",
    "    rpe_vals = rpe_data.loc[rpe_data['RPE'] > 0]\n",
    "    print(\"This subject has \" + str(len(rpe_vals)) + \" trials with RPEs\")\n",
    "\n",
    "    ppe_vals = rpe_data.loc[rpe_data['RPE'] < 0]\n",
    "    print(\"This subject has \" + str(len(ppe_vals)) + \" trials with PPEs\")"
   ]
  },
  {
   "cell_type": "code",
   "execution_count": null,
   "metadata": {},
   "outputs": [],
   "source": [
    "## keep neutral in one regressor \n",
    "## zeros left put in postive RPE"
   ]
  },
  {
   "cell_type": "code",
   "execution_count": 8,
   "metadata": {},
   "outputs": [],
   "source": [
    "test = pd.read_csv(rlist[0])"
   ]
  },
  {
   "cell_type": "code",
   "execution_count": 15,
   "metadata": {},
   "outputs": [
    {
     "name": "stdout",
     "output_type": "stream",
     "text": [
      "17\n"
     ]
    }
   ],
   "source": [
    "test.loc[test['RPE'] < 0]\n",
    "print(len(test.loc[test['RPE'] < 0]))"
   ]
  },
  {
   "cell_type": "code",
   "execution_count": 13,
   "metadata": {},
   "outputs": [
    {
     "data": {
      "text/plain": [
       "41"
      ]
     },
     "execution_count": 13,
     "metadata": {},
     "output_type": "execute_result"
    }
   ],
   "source": [
    "len(test.loc[test['RPE'] > 0]) # 41 trials with positive RPEs"
   ]
  },
  {
   "cell_type": "code",
   "execution_count": null,
   "metadata": {},
   "outputs": [],
   "source": []
  }
 ],
 "metadata": {
  "kernelspec": {
   "display_name": "base",
   "language": "python",
   "name": "python3"
  },
  "language_info": {
   "codemirror_mode": {
    "name": "ipython",
    "version": 3
   },
   "file_extension": ".py",
   "mimetype": "text/x-python",
   "name": "python",
   "nbconvert_exporter": "python",
   "pygments_lexer": "ipython3",
   "version": "3.9.12"
  },
  "orig_nbformat": 4
 },
 "nbformat": 4,
 "nbformat_minor": 2
}
